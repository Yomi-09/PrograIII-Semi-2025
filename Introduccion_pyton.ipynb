{
  "nbformat": 4,
  "nbformat_minor": 0,
  "metadata": {
    "colab": {
      "provenance": [],
      "authorship_tag": "ABX9TyM1E90df6Yty2cGMFXbmHc7",
      "include_colab_link": true
    },
    "kernelspec": {
      "name": "python3",
      "display_name": "Python 3"
    },
    "language_info": {
      "name": "python"
    }
  },
  "cells": [
    {
      "cell_type": "markdown",
      "metadata": {
        "id": "view-in-github",
        "colab_type": "text"
      },
      "source": [
        "<a href=\"https://colab.research.google.com/github/Yomi-09/PrograIII-Semi-2025/blob/main/Introduccion_pyton.ipynb\" target=\"_parent\"><img src=\"https://colab.research.google.com/assets/colab-badge.svg\" alt=\"Open In Colab\"/></a>"
      ]
    },
    {
      "cell_type": "code",
      "execution_count": null,
      "metadata": {
        "colab": {
          "base_uri": "https://localhost:8080/"
        },
        "id": "rvrFWm1wb5HS",
        "outputId": "0672d03d-6a3b-428e-9e25-b4cb7cb2c505"
      },
      "outputs": [
        {
          "output_type": "stream",
          "name": "stdout",
          "text": [
            "Hola Mundo\n",
            "Bienvenidos chicos a programación Computacional III\n"
          ]
        }
      ],
      "source": [
        "print(\"Hola Mundo\")\n",
        "print(\"Bienvenidos chicos a programación Computacional III\")"
      ]
    },
    {
      "cell_type": "code",
      "source": [
        "nombre = \"Yomi Carrazco\"\n",
        "edad = 20\n",
        "print(nombre, edad)\n",
        "\n",
        "edad = \"veinte\"\n",
        "print(\"tu edad:\", edad)"
      ],
      "metadata": {
        "colab": {
          "base_uri": "https://localhost:8080/"
        },
        "id": "toqtW9qmdL6Z",
        "outputId": "d9b76d02-f1fd-46b7-fffb-4603e6ffa172"
      },
      "execution_count": null,
      "outputs": [
        {
          "output_type": "stream",
          "name": "stdout",
          "text": [
            "Yomi Carrazco 20\n",
            "tu edad: veinte\n"
          ]
        }
      ]
    },
    {
      "cell_type": "code",
      "source": [
        "num1 = 5\n",
        "num2 = 8.9\n",
        "suma = num1 + num2\n",
        "print(\"la suma es:\", suma)"
      ],
      "metadata": {
        "colab": {
          "base_uri": "https://localhost:8080/"
        },
        "id": "LGbBKR0zdz-8",
        "outputId": "81822f02-5242-4cd2-fad9-8f1e38f2ff4b"
      },
      "execution_count": null,
      "outputs": [
        {
          "output_type": "stream",
          "name": "stdout",
          "text": [
            "la suma es: 13.9\n"
          ]
        }
      ]
    },
    {
      "cell_type": "code",
      "source": [
        "num1 = float(input(\"num1:\"))\n",
        "num2 = float(input(\"num2:\"))\n",
        "suma = num1 + num2\n",
        "print(\"la suma es:\", suma)"
      ],
      "metadata": {
        "colab": {
          "base_uri": "https://localhost:8080/"
        },
        "id": "N0yduUiyfk5n",
        "outputId": "17e62fdf-ae05-4250-d193-6384f330d29e"
      },
      "execution_count": null,
      "outputs": [
        {
          "output_type": "stream",
          "name": "stdout",
          "text": [
            "num1:3\n",
            "num2:4\n",
            "la suma es: 7.0\n"
          ]
        }
      ]
    },
    {
      "cell_type": "code",
      "source": [
        "num1 = float(input(\"num1:\"))\n",
        "num2 = float(input(\"num2:\"))\n",
        "resta = num1 - num2\n",
        "print(\"la resta es:\", resta)"
      ],
      "metadata": {
        "colab": {
          "base_uri": "https://localhost:8080/"
        },
        "id": "Mreo9aNehyMa",
        "outputId": "e11cdd4f-423b-4143-8bcf-220c75f7608b"
      },
      "execution_count": null,
      "outputs": [
        {
          "output_type": "stream",
          "name": "stdout",
          "text": [
            "num1:7\n",
            "num2:5\n",
            "la resta es: 2.0\n"
          ]
        }
      ]
    },
    {
      "cell_type": "markdown",
      "source": [
        "TIPOS DE DATOS EN PYTHON"
      ],
      "metadata": {
        "id": "psRXPvNWMg4h"
      }
    },
    {
      "cell_type": "code",
      "source": [
        "#ENTERO\n",
        "num1 = 6\n",
        "print(num1, \"Esto es un numero entero\")\n",
        "print( str(num1) + \"Esto es un entero\")\n",
        "\n",
        "#DECIMAL\n",
        "num2 = 7.5\n",
        "print(num2, \"Esto es un numero entero\")\n",
        "\n",
        "#BOOLEANO\n",
        "esMayor = True\n",
        "print(esMayor, \"Esto es un Booleano\")\n",
        "\n",
        "\n",
        "\n"
      ],
      "metadata": {
        "colab": {
          "base_uri": "https://localhost:8080/"
        },
        "id": "n9N3kUt4MgNa",
        "outputId": "423d5708-0a7c-4de4-bdce-40f822b1e710"
      },
      "execution_count": null,
      "outputs": [
        {
          "output_type": "stream",
          "name": "stdout",
          "text": [
            "6 Esto es un numero entero\n",
            "6Esto es un entero\n",
            "7.5 Esto es un numero entero\n",
            "True Esto es un Booleano\n"
          ]
        }
      ]
    },
    {
      "cell_type": "code",
      "source": [
        "#RESTA\n",
        "def resta(num1, num2):\n",
        "  return num1 + num2\n",
        "\n"
      ],
      "metadata": {
        "id": "MMwizWoGbiTR"
      },
      "execution_count": null,
      "outputs": []
    },
    {
      "cell_type": "code",
      "source": [
        "print(\"La resta de 5 + 8 = \", resta(5,8))"
      ],
      "metadata": {
        "colab": {
          "base_uri": "https://localhost:8080/"
        },
        "id": "uJgEb8rjbsgF",
        "outputId": "d0ffae36-28c5-4e72-a345-a4bba4175de1"
      },
      "execution_count": null,
      "outputs": [
        {
          "output_type": "stream",
          "name": "stdout",
          "text": [
            "La resta de 5 + 8 =  13\n"
          ]
        }
      ]
    },
    {
      "cell_type": "code",
      "source": [
        "num1 = float(input(\"Num1: \"))\n",
        "num2 = float(input(\"Num2: \"))\n",
        "respuesta = resta(num1, num2)\n",
        "print(\"La resta es: \", respuesta)"
      ],
      "metadata": {
        "colab": {
          "base_uri": "https://localhost:8080/"
        },
        "id": "bPvNPrgsbuEO",
        "outputId": "17d358e5-c2d7-41ff-9c72-3a570b473638"
      },
      "execution_count": null,
      "outputs": [
        {
          "output_type": "stream",
          "name": "stdout",
          "text": [
            "Num1: 3\n",
            "Num2: 5\n",
            "La resta es:  8.0\n"
          ]
        }
      ]
    },
    {
      "cell_type": "code",
      "source": [
        "#Ejercicio haciendo uso de funciones de usuario\n",
        "def celciusfarenheit(c):\n",
        "  return c*1.8 + 32"
      ],
      "metadata": {
        "id": "wWg-0v6OU2kJ"
      },
      "execution_count": null,
      "outputs": []
    },
    {
      "cell_type": "code",
      "source": [
        "c = int(input(\"Grados c:\"))\n",
        "f = celciusfarenheit(c)\n",
        "print(\"f:\", f)"
      ],
      "metadata": {
        "colab": {
          "base_uri": "https://localhost:8080/"
        },
        "id": "w-ndf73wXfTu",
        "outputId": "6ed208b5-59cb-4318-9176-d56cc386c939"
      },
      "execution_count": null,
      "outputs": [
        {
          "output_type": "stream",
          "name": "stdout",
          "text": [
            "Grados c:35\n",
            "f: 95.0\n"
          ]
        }
      ]
    },
    {
      "cell_type": "code",
      "source": [
        "#ejercio que combierta grados farenheit a celcius\n",
        "def farenheitcelcius(c):\n",
        " return (f - 32) * 5/9"
      ],
      "metadata": {
        "id": "AW4ZiOxeZamO"
      },
      "execution_count": null,
      "outputs": []
    },
    {
      "cell_type": "code",
      "source": [
        "f = float(input(\"Grados f:\"))\n",
        "c = farenheitcelcius(f)\n",
        "print(\"c:\", c)"
      ],
      "metadata": {
        "id": "JaMshYkZaIzT",
        "colab": {
          "base_uri": "https://localhost:8080/"
        },
        "outputId": "abd69d57-b0a3-4acd-888c-a5124215c767"
      },
      "execution_count": null,
      "outputs": [
        {
          "output_type": "stream",
          "name": "stdout",
          "text": [
            "Grados f:95.0\n",
            "c: 35.0\n"
          ]
        }
      ]
    },
    {
      "cell_type": "code",
      "source": [
        "#comvertir de ngrados celcius a kelvin\n",
        "def celciuskelvin(c):\n",
        "  return c + 273.15\n"
      ],
      "metadata": {
        "id": "QwndRzJde3EH"
      },
      "execution_count": null,
      "outputs": []
    },
    {
      "cell_type": "code",
      "source": [
        "c = float(input(\"Grados c:\"))\n",
        "k = celciuskelvin(c)\n",
        "print(\"k:\", k)"
      ],
      "metadata": {
        "colab": {
          "base_uri": "https://localhost:8080/"
        },
        "id": "igf7aTb4fWYa",
        "outputId": "ff51deba-9c61-4437-9907-ae1833911a20"
      },
      "execution_count": null,
      "outputs": [
        {
          "output_type": "stream",
          "name": "stdout",
          "text": [
            "Grados c:32\n",
            "k: 305.15\n"
          ]
        }
      ]
    },
    {
      "cell_type": "code",
      "source": [
        "#ejercio haciendo uso de funciones de usuario que\n",
        "#calcule el sueldo de un empleado\n",
        "#segun el  numero de horas trabajadasy el valor por hora\n",
        "\n",
        "def sueldo(horas, valor):\n",
        "  sueldo = horas * valor * 30\n",
        "  return sueldo\n"
      ],
      "metadata": {
        "id": "W9ShGFpahc80"
      },
      "execution_count": null,
      "outputs": []
    },
    {
      "cell_type": "code",
      "source": [
        "horas = float(input(\"Horas trabajadas:\"))\n",
        "valor = float(input(\"Valor por hora:\"))\n",
        "sueldo = sueldo(horas, valor)\n",
        "\n",
        "print(\"Sueldo:\", sueldo)"
      ],
      "metadata": {
        "id": "yfXsyf0yh80z"
      },
      "execution_count": null,
      "outputs": []
    },
    {
      "cell_type": "code",
      "source": [
        "#ejercio que permita elevar un numero a un exponente\n",
        "def exponente(base, exponente):\n",
        "  return base ** exponente\n",
        "\n",
        "  base = float(input(\"Base:\"))\n",
        "  exponente = float(input(\"Exponente:\"))\n",
        "\n",
        "  resultado = exponente(base, exponente)\n",
        "  print(\"El Numero:\", base, )"
      ],
      "metadata": {
        "id": "xD1yxPvjjzYQ"
      },
      "execution_count": null,
      "outputs": []
    },
    {
      "cell_type": "markdown",
      "source": [
        "FUNCIONES ANONIMAS"
      ],
      "metadata": {
        "id": "-duEilWYYOpe"
      }
    },
    {
      "cell_type": "code",
      "source": [
        "def suma(a,b):\n",
        "  return a+b"
      ],
      "metadata": {
        "id": "HI_pgWBiYSD9"
      },
      "execution_count": null,
      "outputs": []
    },
    {
      "cell_type": "code",
      "source": [
        "a = float(input(\"Num1: \"))\n",
        "b = float(input(\"Num2: \"))\n",
        "\n",
        "suma = suma(a,b)\n",
        "print(\"La suma es: \", suma)"
      ],
      "metadata": {
        "id": "vfba7RQ1YVVi"
      },
      "execution_count": null,
      "outputs": []
    },
    {
      "cell_type": "code",
      "source": [
        "a = float(input(\"Num1: \"))\n",
        "b = float(input(\"Num2: \"))\n",
        "\n",
        "sum = lambda a,b: a+b\n",
        "print( \"La suma de \", a, \" mas b \", b, \" es igual \", sum(a,b) )"
      ],
      "metadata": {
        "id": "WnxuhNajYalY"
      },
      "execution_count": null,
      "outputs": []
    },
    {
      "cell_type": "markdown",
      "source": [
        "FUNCIONES PRECONSTRUIDAS"
      ],
      "metadata": {
        "id": "r4bfTdHTYgNZ"
      }
    },
    {
      "cell_type": "code",
      "source": [
        "\n",
        "def extraerPrimeraLetra(dia):\n",
        "  return dia[0]"
      ],
      "metadata": {
        "id": "fuyyqef5Y5Tt"
      },
      "execution_count": null,
      "outputs": []
    },
    {
      "cell_type": "code",
      "source": [
        "#map\n",
        "semana = [\"Domingo\", \"Lunes\", \"Martes\", \"Miercoles\", \"Jueves\", \"Viernes\", \"Sabado\"]\n",
        "\n",
        "primeraLetraDia = map(lambda dia: dia[0], semana)\n",
        "print(list(primeraLetraDia))\n",
        "\n",
        "mayusSemana = map(lambda dia: dia.upper(), semana)\n",
        "print(list(mayusSemana))\n",
        "\n",
        "print( list(map(extraerPrimeraLetra, semana)) )"
      ],
      "metadata": {
        "id": "3fLlsFJmY6A6"
      },
      "execution_count": null,
      "outputs": []
    },
    {
      "cell_type": "code",
      "source": [
        "numeros = [2,4,6,8,7,9]\n",
        "potencia = int(input(\"Potencia: \"))\n",
        "numeroPotencia = map(lambda num: num**potencia, numeros)\n",
        "\n",
        "print(list(numeroPotencia))"
      ],
      "metadata": {
        "id": "nGNjZg03ZAwp"
      },
      "execution_count": null,
      "outputs": []
    },
    {
      "cell_type": "code",
      "source": [
        "ntabla  = int(input(\"Tabla:\"))\n",
        "numeros = [1,2,3,4,5,6,7,8,9,10]\n",
        "tabla = map(lambda num: num*ntabla, numeros)\n",
        "\n",
        "print(list(tabla))"
      ],
      "metadata": {
        "id": "tPrzXD3iZMHb"
      },
      "execution_count": null,
      "outputs": []
    },
    {
      "cell_type": "code",
      "source": [
        "serie = [5,6,9,2,7,8]\n",
        "pares = filter(lambda num: num%2==0, serie) #% ===> a modulo, obtener el residuo.\n",
        "\n",
        "print(list(pares))\n",
        "\n",
        "impares = filter(lambda num: num%2!=0, serie)\n",
        "\n",
        "print(list(impares))"
      ],
      "metadata": {
        "id": "O4gSoXNOZRFu"
      },
      "execution_count": null,
      "outputs": []
    },
    {
      "cell_type": "code",
      "source": [
        "serieUser = input(\"Serie: \") # \"5,2,8,1\" --> serie[0]=\"5\"; serie[1]=\"2\"; etc..\n",
        "serieUser = serieUser.split(\",\")\n",
        "\n",
        "pares = filter(lambda num: int(num)%2==0, serieUser)\n",
        "impares = filter(lambda num: int(num)%2!=0, serieUser)\n",
        "\n",
        "print(\"Pares: \",list(pares))\n",
        "print(\"Impares: \", list(impares))"
      ],
      "metadata": {
        "id": "LgQcNgiGZUVT"
      },
      "execution_count": null,
      "outputs": []
    },
    {
      "cell_type": "markdown",
      "source": [
        "Funcion Reduce"
      ],
      "metadata": {
        "id": "-xTWVKKMavl1"
      }
    },
    {
      "cell_type": "code",
      "source": [
        "#reduce\n",
        "from functools import reduce\n",
        "numeros = [5,4,9,6,8,2,3]\n",
        "suma = reduce(lambda acum, num: acum + num, numeros)\n",
        "\n",
        "sumaPares = reduce(lambda acum, num: acum + num if num % 2 == 0 else acum, numeros, 0)\n",
        "\n",
        "print(\"La suma es: \", suma)\n",
        "print(\"La suma de los pares es: \", sumaPares)\n",
        "print(\"Suma Pares: \", sumaPares)\n",
        "\n",
        "#"
      ],
      "metadata": {
        "id": "JXn6-WKUZkeB"
      },
      "execution_count": null,
      "outputs": []
    },
    {
      "cell_type": "markdown",
      "source": [
        "TUPLAS"
      ],
      "metadata": {
        "id": "LNOfjLE1fC5l"
      }
    },
    {
      "cell_type": "code",
      "source": [
        "tupla = (1,2,3,7,8,9)\n",
        "tupla[0] = 5\n",
        "print(\"Tupla: \", tupla, \"Primer elemento\", tupla[0], \"El numero 5 pertenece a la tupla: \" tupla.coun(5))\n",
        "print(\"Ultimo elemento: \", tupla[-1])\n",
        "print(\"Rango: \", tupla[0:5])\n"
      ],
      "metadata": {
        "id": "kDR0MvfIfE4h"
      },
      "execution_count": null,
      "outputs": []
    },
    {
      "cell_type": "code",
      "source": [
        "import datetime\n",
        "fecha = datetime.date.today()\n",
        "semana = \"Lunes\", \"Martes\", \"Miercoles\", \"Jueves\", \"Viernes\", \"Sabado\", \"Domingo\"\n",
        "meses = \"Enero\", \"Febrero\", \"Marzo\", \"Abril\", \"Mayo\", \"Junio\", \"Julio\", \"Agosto\", \"Septiembre\", \"Octubre\", \"Noviembre\", \"Diciembre\"\n",
        "dia = fecha.day\n",
        "mes = fecha.month\n",
        "year = fecha.year\n",
        "diaSemana = semana[fecha.isoweekday()]\n",
        "\n",
        "print(diaSemana, dia, \"de\", meses[mes], \"del\", year)\n",
        "print(fecha, fecha.isoweekday(), diaSemana)\n",
        "print(dia, mes, year)\n"
      ],
      "metadata": {
        "id": "08NejxHAjJix"
      },
      "execution_count": null,
      "outputs": []
    },
    {
      "cell_type": "markdown",
      "source": [
        "LISTA"
      ],
      "metadata": {
        "id": "a2dXpL2RmQUK"
      }
    },
    {
      "cell_type": "code",
      "source": [
        "lista = [5,8,9,4, \"Progra III\", True, [4,8,9, [8,9,4]]]\n",
        "print(lista)\n"
      ],
      "metadata": {
        "id": "0XNJsvkZmTAF"
      },
      "execution_count": null,
      "outputs": []
    },
    {
      "cell_type": "code",
      "source": [
        "def calcularPromedio(nota, notas):\n",
        "  return notas(1)8*0.3 + nota 9*0.3 + 10*0.4\n"
      ],
      "metadata": {
        "id": "78hkOPwwnld1"
      },
      "execution_count": null,
      "outputs": []
    },
    {
      "cell_type": "code",
      "source": [
        "# Hacer un ejercicio que obtenga la nota final de Progra III, computo 1\n",
        "from functools import reduce\n",
        "\n",
        "notas = [\n",
        "    [\"Lab1\", 8, 0.3],\n",
        "    [\"Lab2\", 9,0.3],\n",
        "    [\"Parcial1\", 9, 0.4]\n",
        "\n",
        "    [\"Lab1\", 8, 0.3],\n",
        "    [\"Lab2\", 9,0.3],\n",
        "    [\"Parcial2\", 9, 0.4]\n",
        "\n",
        "    [\"Lab1\", 8, 0.3],\n",
        "    [\"Lab2\", 9,0.3],\n",
        "    [\"Parcial3\", 9, 0.4]\n",
        "]\n",
        "prom = reduce(calcularPromedio, notas, 0)\n",
        "nf = prom / 3\n",
        "print(\"Nota final: \", nf)\n",
        "\n",
        "\n"
      ],
      "metadata": {
        "id": "TXZpN9hvnAVT"
      },
      "execution_count": null,
      "outputs": []
    },
    {
      "cell_type": "code",
      "source": [
        "from functools import reduce\n",
        "\n",
        "notas = []\n",
        "    [\"Lab1\", 8, 0.3],\n",
        "    [\"Lab2\", 9,0.3],\n",
        "    [\"Parcial1\", 9, 0.4]\n",
        "\n",
        "    [\"Lab1\", 8, 0.3],\n",
        "    [\"Lab2\", 9,0.3],\n",
        "    [\"Parcial2\", 9, 0.4]\n",
        "\n",
        "    [\"Lab1\", 8, 0.3],\n",
        "    [\"Lab2\", 9,0.3],\n",
        "    [\"Parcial3\", 9, 0.4]\n",
        "]\n",
        "prom = reduce(calcularPromedio, notas, 0)\n",
        "nf = prom / 3\n",
        "print(\"Nota final: \", nf)\n",
        "\n",
        "\n"
      ],
      "metadata": {
        "id": "khXWWDGeXcuH"
      },
      "execution_count": null,
      "outputs": []
    },
    {
      "cell_type": "markdown",
      "source": [
        "CAlCULAR SUELDO NETO"
      ],
      "metadata": {
        "id": "OJwD9fOnInQ5"
      }
    },
    {
      "cell_type": "code",
      "source": [
        "def calcularSueldoNeto():\n",
        "    salario_nominal = float(input(\"Ingresa el salario nominal: \"))\n",
        "    tasa_isss = 0.03\n",
        "    tasa_afp = 0.0625\n",
        "    descuento_isss = salario_nominal * tasa_isss\n",
        "    descuento_afp = salario_nominal * tasa_afp\n",
        "    renta_neta = salario_nominal - (descuento_isss + descuento_afp)\n",
        "    descuento_isr = 0\n",
        "\n",
        "    if renta_neta <= 472.00:\n",
        "        descuento_isr = 0\n",
        "    elif renta_neta <= 895.24:\n",
        "        exceso = renta_neta - 472.00\n",
        "        descuento_isr = exceso * 0.10 + 17.67\n",
        "    elif renta_neta <= 2038.10:\n",
        "        exceso = renta_neta - 895.24\n",
        "        descuento_isr = exceso * 0.20 + 60.00\n",
        "    else:\n",
        "        exceso = renta_neta - 2038.10\n",
        "        descuento_isr = exceso * 0.30 + 288.57\n",
        "\n",
        "    total_deducciones = descuento_isss + descuento_afp + descuento_isr\n",
        "    sueldo_neto = salario_nominal - total_deducciones\n",
        "\n",
        "    print(\"Salario Nominal:\", salario_nominal)\n",
        "    print(\"Descuento ISSS:\", descuento_isss)\n",
        "    print(\"Descuento AFP:\", descuento_afp)\n",
        "    print(\"Descuento ISR:\", descuento_isr)\n",
        "    print(\"Total de deducciones:\", total_deducciones)\n",
        "    print(\"Sueldo Neto:\", sueldo_neto)\n",
        "\n",
        "calcularSueldoNeto()"
      ],
      "metadata": {
        "id": "-y43T4DJIvB8"
      },
      "execution_count": null,
      "outputs": []
    },
    {
      "cell_type": "markdown",
      "source": [
        "TARIFA DE AGUA"
      ],
      "metadata": {
        "id": "a4P55o9YI0mq"
      }
    },
    {
      "cell_type": "code",
      "source": [
        "def calcularTarifaAgua():\n",
        "    metros_consumidos = float(input(\"¿Cuántos metros de agua consumiste? \"))\n",
        "    costo_total = 0\n",
        "\n",
        "    if metros_consumidos <= 18:\n",
        "        costo_total = 6.00\n",
        "    elif metros_consumidos <= 28:\n",
        "        exceso = metros_consumidos - 18\n",
        "        costo_total = 6.00 + (exceso * 0.45)\n",
        "    else:\n",
        "        costo_primeros_18 = 6.00\n",
        "        costo_siguientes_10 = 10 * 0.45\n",
        "        exceso = metros_consumidos - 28\n",
        "        costo_exceso = exceso * 0.65\n",
        "        costo_total = costo_primeros_18 + costo_siguientes_10 + costo_exceso\n",
        "\n",
        "    print(\"El costo total a pagar es: $\", costo_total)\n",
        "\n",
        "calcularTarifaAgua()"
      ],
      "metadata": {
        "id": "Dy0SMOMsI2DF"
      },
      "execution_count": null,
      "outputs": []
    },
    {
      "cell_type": "markdown",
      "source": [
        "ACUMULADO DE MESES"
      ],
      "metadata": {
        "id": "RTDkJ8W8I6Bk"
      }
    },
    {
      "cell_type": "code",
      "source": [
        "def calcularMesesAcumulados():\n",
        "    meses = int(input(\"Ingresa el número de meses a acumular: \"))\n",
        "\n",
        "    acumulado = 0\n",
        "\n",
        "    for mes in range(1, meses + 1):\n",
        "        acumulado = acumulado + mes\n",
        "\n",
        "    print(\"El acumulado de\", meses, \"meses es:\", acumulado)\n",
        "\n",
        "calcularMesesAcumulados()"
      ],
      "metadata": {
        "id": "twgk75RCI9Bu"
      },
      "execution_count": null,
      "outputs": []
    },
    {
      "cell_type": "markdown",
      "source": [
        "CONVERSORES"
      ],
      "metadata": {
        "id": "1pycxapbJATQ"
      }
    },
    {
      "cell_type": "code",
      "source": [
        "#calcular unidades\n",
        "def conversor_universal(nombre_tipo, tasas):\n",
        "    print(f\"\\n*** Conversor de {nombre_tipo.capitalize()} ***\")\n",
        "\n",
        "    unidades_disponibles = list(tasas.keys())\n",
        "\n",
        "    print(\"Unidades disponibles:\")\n",
        "    for i, unidad in enumerate(unidades_disponibles, 1):\n",
        "        print(f\"{i}. {unidad}\")\n",
        "\n",
        "    try:\n",
        "        opcion_origen = int(input(\"Selecciona la unidad de origen: \")) - 1\n",
        "        opcion_destino = int(input(\"Selecciona la unidad de destino: \")) - 1\n",
        "\n",
        "        if 0 <= opcion_origen < len(unidades_disponibles) and 0 <= opcion_destino < len(unidades_disponibles):\n",
        "            unidad_origen = unidades_disponibles[opcion_origen]\n",
        "            unidad_destino = unidades_disponibles[opcion_destino]\n",
        "\n",
        "            valor = float(input(f\"Ingresa el valor en {unidad_origen}: \"))\n",
        "\n",
        "            valor_en_base = valor / tasas[unidad_origen]\n",
        "            resultado = valor_en_base * tasas[unidad_destino]\n",
        "\n",
        "            print(f\"{valor} {unidad_origen} equivale a {resultado} {unidad_destino}\")\n",
        "        else:\n",
        "            print(\"Opción no válida. Inténtalo de nuevo.\")\n",
        "    except (ValueError, IndexError):\n",
        "        print(\"Entrada no válida. Por favor, ingresa un número.\")\n",
        "\n",
        "def Cmonedas():\n",
        "    tasas = {\n",
        "        \"Dólar\": 1, \"Euro\": 0.92, \"Libra Esterlina\": 0.79, \"Yen Japonés\": 140.00,\n",
        "        \"Dólar Canadiense\": 1.35, \"Peso Mexicano\": 17.15, \"Peso Chileno\": 950.00,\n",
        "        \"Peso Argentino\": 870.00, \"Peso Colombiano\": 4000.00, \"Real Brasileño\": 5.20\n",
        "    }\n",
        "    conversor_universal(\"monedas\", tasas)\n",
        "\n",
        "def Cmasa():\n",
        "    tasas = {\n",
        "        \"Kilogramo\": 1, \"Gramo\": 1000, \"Miligramo\": 1000000, \"Libra\": 2.20462, \"Onza\": 35.274,\n",
        "        \"Tonelada\": 0.001, \"Stone\": 0.157473, \"Quilate\": 5000, \"Dram\": 564.383, \"Grain\": 15432.4\n",
        "    }\n",
        "    conversor_universal(\"masa\", tasas)\n",
        "\n",
        "def Cvolumen():\n",
        "    tasas = {\n",
        "        \"Litro\": 1, \"Mililitro\": 1000, \"Galón\": 0.264172, \"Cuarto\": 1.05669, \"Pinta\": 2.11338,\n",
        "        \"Taza\": 4.22675, \"Metro Cúbico\": 0.001, \"Pie Cúbico\": 0.0353147, \"Pulgada Cúbica\": 61.0237,\n",
        "        \"Onza Fluida\": 33.814\n",
        "    }\n",
        "    conversor_universal(\"volumen\", tasas)\n",
        "\n",
        "def Clongitud():\n",
        "    tasas = {\n",
        "        \"Metro\": 1, \"Kilómetro\": 0.001, \"Centímetro\": 100, \"Milímetro\": 1000,\n",
        "        \"Yarda\": 1.09361, \"Pie\": 3.28084, \"Pulgada\": 39.3701, \"Milla\": 0.000621371\n",
        "    }\n",
        "    conversor_universal(\"longitud\", tasas)\n",
        "\n",
        "def Calmacenamiento():\n",
        "    tasas = {\n",
        "        \"Byte\": 1, \"Kilobyte\": 0.0009765625, \"Megabyte\": 9.53674e-07, \"Gigabyte\": 9.31323e-10,\n",
        "        \"Terabyte\": 9.09495e-13, \"Petabyte\": 8.88178e-16, \"Exabyte\": 8.67362e-19,\n",
        "        \"Zettabyte\": 8.47033e-22, \"Yottabyte\": 8.27181e-25, \"Brontobyte\": 8.07794e-28\n",
        "    }\n",
        "    conversor_universal(\"almacenamiento\", tasas)\n",
        "\n",
        "def Ctiempo():\n",
        "    tasas = {\n",
        "        \"Segundo\": 1, \"Minuto\": 0.0166667, \"Hora\": 0.000277778, \"Día\": 1.15741e-05,\n",
        "        \"Semana\": 1.65344e-06, \"Mes\": 3.80517e-07, \"Año\": 3.17098e-08,\n",
        "        \"Década\": 3.17098e-09, \"Siglo\": 3.17098e-10, \"Milenio\": 3.17098e-11\n",
        "    }\n",
        "    conversor_universal(\"tiempo\", tasas)\n",
        "\n",
        "def Carea():\n",
        "    tasas = {\n",
        "        \"Metro Cuadrado\": 1, \"Kilómetro Cuadrado\": 0.000001, \"Hectárea\": 0.0001, \"Pie Cuadrado\": 10.7639,\n",
        "        \"Centímetro Cuadrado\": 10000, \"Milla Cuadrada\": 3.86102e-07, \"Acre\": 0.000247105,\n",
        "        \"Yarda Cuadrada\": 1.19599, \"Manzana\": 0.000142857, \"Tarea\": 0.0022857\n",
        "    }\n",
        "    conversor_universal(\"area\", tasas)\n",
        "\n",
        "def menu_principal():\n",
        "    while True:\n",
        "        print(\"\\n***Menu de opciones***\")\n",
        "        print(\"1. Conversión de monedas\")\n",
        "        print(\"2. Conversión de masas\")\n",
        "        print(\"3. Conversión de volumen\")\n",
        "        print(\"4. Conversión de longitud\")\n",
        "        print(\"5. Conversión de almacenamiento\")\n",
        "        print(\"6. Conversión de tiempo\")\n",
        "        print(\"7. Conversión de área\")\n",
        "        print(\"8. Salir\")\n",
        "\n",
        "        opcion = input(\"opcion: \")\n",
        "\n",
        "        if opcion == \"1\":\n",
        "            Cmonedas()\n",
        "        elif opcion == \"2\":\n",
        "            Cmasa()\n",
        "        elif opcion == \"3\":\n",
        "            Cvolumen()\n",
        "        elif opcion == \"4\":\n",
        "            Clongitud()\n",
        "        elif opcion == \"5\":\n",
        "            Calmacenamiento()\n",
        "        elif opcion == \"6\":\n",
        "            Ctiempo()\n",
        "        elif opcion == \"7\":\n",
        "            Carea()\n",
        "        elif opcion == \"8\":\n",
        "            print(\"Saliendo del programa...\")\n",
        "            break\n",
        "        else:\n",
        "            print(\"Opción no válida. Inténtalo de nuevo.\")\n",
        "\n",
        "menu_principal()"
      ],
      "metadata": {
        "id": "0aiBTK2LJFhZ"
      },
      "execution_count": null,
      "outputs": []
    },
    {
      "cell_type": "markdown",
      "source": [
        "CONVERSOR PROPIO"
      ],
      "metadata": {
        "id": "ayO0FV6YJJU8"
      }
    },
    {
      "cell_type": "code",
      "source": [
        "#conversor propio, de unidades a cajas y viceversa\n",
        "def conversor_cajas():\n",
        "\n",
        "    unidades_por_caja = 25\n",
        "\n",
        "    print(\"Opciones de conversión:\")\n",
        "    print(\"1. Convertir de unidades a cajas\")\n",
        "    print(\"2. Convertir de cajas a unidades\")\n",
        "\n",
        "    opcion = input(\"Selecciona una opción (1 o 2): \")\n",
        "\n",
        "    if opcion == \"1\":\n",
        "\n",
        "        valor_unidades = float(input(\"Ingresa la cantidad de unidades: \"))\n",
        "        resultado = valor_unidades / unidades_por_caja\n",
        "        print(f\"{valor_unidades} unidades equivalen a {resultado} cajas.\")\n",
        "\n",
        "    elif opcion == \"2\":\n",
        "\n",
        "        valor_cajas = float(input(\"Ingresa la cantidad de cajas: \"))\n",
        "        resultado = valor_cajas * unidades_por_caja\n",
        "        print(f\"{valor_cajas} cajas equivalen a {resultado} unidades.\")\n",
        "\n",
        "    else:\n",
        "        print(\"Opción no válida. Por favor, selecciona 1 o 2.\")\n",
        "\n",
        "\n",
        "conversor_cajas()"
      ],
      "metadata": {
        "id": "_LrmprK4JLVj"
      },
      "execution_count": null,
      "outputs": []
    }
  ]
}