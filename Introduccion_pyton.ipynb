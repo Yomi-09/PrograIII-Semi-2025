{
  "nbformat": 4,
  "nbformat_minor": 0,
  "metadata": {
    "colab": {
      "provenance": [],
      "authorship_tag": "ABX9TyP/C4w9Z8wcFio6U0Yf8APW",
      "include_colab_link": true
    },
    "kernelspec": {
      "name": "python3",
      "display_name": "Python 3"
    },
    "language_info": {
      "name": "python"
    }
  },
  "cells": [
    {
      "cell_type": "markdown",
      "metadata": {
        "id": "view-in-github",
        "colab_type": "text"
      },
      "source": [
        "<a href=\"https://colab.research.google.com/github/Yomi-09/PrograIII-Semi-2025/blob/main/Introduccion_pyton.ipynb\" target=\"_parent\"><img src=\"https://colab.research.google.com/assets/colab-badge.svg\" alt=\"Open In Colab\"/></a>"
      ]
    },
    {
      "cell_type": "code",
      "execution_count": null,
      "metadata": {
        "colab": {
          "base_uri": "https://localhost:8080/"
        },
        "id": "rvrFWm1wb5HS",
        "outputId": "0672d03d-6a3b-428e-9e25-b4cb7cb2c505"
      },
      "outputs": [
        {
          "output_type": "stream",
          "name": "stdout",
          "text": [
            "Hola Mundo\n",
            "Bienvenidos chicos a programación Computacional III\n"
          ]
        }
      ],
      "source": [
        "print(\"Hola Mundo\")\n",
        "print(\"Bienvenidos chicos a programación Computacional III\")"
      ]
    },
    {
      "cell_type": "code",
      "source": [
        "nombre = \"Yomi Carrazco\"\n",
        "edad = 20\n",
        "print(nombre, edad)\n",
        "\n",
        "edad = \"veinte\"\n",
        "print(\"tu edad:\", edad)"
      ],
      "metadata": {
        "colab": {
          "base_uri": "https://localhost:8080/"
        },
        "id": "toqtW9qmdL6Z",
        "outputId": "d9b76d02-f1fd-46b7-fffb-4603e6ffa172"
      },
      "execution_count": null,
      "outputs": [
        {
          "output_type": "stream",
          "name": "stdout",
          "text": [
            "Yomi Carrazco 20\n",
            "tu edad: veinte\n"
          ]
        }
      ]
    },
    {
      "cell_type": "code",
      "source": [
        "num1 = 5\n",
        "num2 = 8.9\n",
        "suma = num1 + num2\n",
        "print(\"la suma es:\", suma)"
      ],
      "metadata": {
        "colab": {
          "base_uri": "https://localhost:8080/"
        },
        "id": "LGbBKR0zdz-8",
        "outputId": "81822f02-5242-4cd2-fad9-8f1e38f2ff4b"
      },
      "execution_count": null,
      "outputs": [
        {
          "output_type": "stream",
          "name": "stdout",
          "text": [
            "la suma es: 13.9\n"
          ]
        }
      ]
    },
    {
      "cell_type": "code",
      "source": [
        "num1 = float(input(\"num1:\"))\n",
        "num2 = float(input(\"num2:\"))\n",
        "suma = num1 + num2\n",
        "print(\"la suma es:\", suma)"
      ],
      "metadata": {
        "colab": {
          "base_uri": "https://localhost:8080/"
        },
        "id": "N0yduUiyfk5n",
        "outputId": "17e62fdf-ae05-4250-d193-6384f330d29e"
      },
      "execution_count": null,
      "outputs": [
        {
          "output_type": "stream",
          "name": "stdout",
          "text": [
            "num1:3\n",
            "num2:4\n",
            "la suma es: 7.0\n"
          ]
        }
      ]
    },
    {
      "cell_type": "code",
      "source": [
        "num1 = float(input(\"num1:\"))\n",
        "num2 = float(input(\"num2:\"))\n",
        "resta = num1 - num2\n",
        "print(\"la resta es:\", resta)"
      ],
      "metadata": {
        "colab": {
          "base_uri": "https://localhost:8080/"
        },
        "id": "Mreo9aNehyMa",
        "outputId": "e11cdd4f-423b-4143-8bcf-220c75f7608b"
      },
      "execution_count": null,
      "outputs": [
        {
          "output_type": "stream",
          "name": "stdout",
          "text": [
            "num1:7\n",
            "num2:5\n",
            "la resta es: 2.0\n"
          ]
        }
      ]
    },
    {
      "cell_type": "markdown",
      "source": [
        "TIPOS DE DATOS EN PYTHON"
      ],
      "metadata": {
        "id": "psRXPvNWMg4h"
      }
    },
    {
      "cell_type": "code",
      "source": [
        "#ENTERO\n",
        "num1 = 6\n",
        "print(num1, \"Esto es un numero entero\")\n",
        "print( str(num1) + \"Esto es un entero\")\n",
        "\n",
        "#DECIMAL\n",
        "num2 = 7.5\n",
        "print(num2, \"Esto es un numero entero\")\n",
        "\n",
        "#BOOLEANO\n",
        "esMayor = True\n",
        "print(esMayor, \"Esto es un Booleano\")\n",
        "\n",
        "\n",
        "\n"
      ],
      "metadata": {
        "colab": {
          "base_uri": "https://localhost:8080/"
        },
        "id": "n9N3kUt4MgNa",
        "outputId": "423d5708-0a7c-4de4-bdce-40f822b1e710"
      },
      "execution_count": null,
      "outputs": [
        {
          "output_type": "stream",
          "name": "stdout",
          "text": [
            "6 Esto es un numero entero\n",
            "6Esto es un entero\n",
            "7.5 Esto es un numero entero\n",
            "True Esto es un Booleano\n"
          ]
        }
      ]
    },
    {
      "cell_type": "code",
      "source": [
        "#RESTA\n",
        "def resta(num1, num2):\n",
        "  return num1 + num2\n",
        "\n"
      ],
      "metadata": {
        "id": "MMwizWoGbiTR"
      },
      "execution_count": null,
      "outputs": []
    },
    {
      "cell_type": "code",
      "source": [
        "print(\"La resta de 5 + 8 = \", resta(5,8))"
      ],
      "metadata": {
        "colab": {
          "base_uri": "https://localhost:8080/"
        },
        "id": "uJgEb8rjbsgF",
        "outputId": "d0ffae36-28c5-4e72-a345-a4bba4175de1"
      },
      "execution_count": null,
      "outputs": [
        {
          "output_type": "stream",
          "name": "stdout",
          "text": [
            "La resta de 5 + 8 =  13\n"
          ]
        }
      ]
    },
    {
      "cell_type": "code",
      "source": [
        "num1 = float(input(\"Num1: \"))\n",
        "num2 = float(input(\"Num2: \"))\n",
        "respuesta = resta(num1, num2)\n",
        "print(\"La resta es: \", respuesta)"
      ],
      "metadata": {
        "colab": {
          "base_uri": "https://localhost:8080/"
        },
        "id": "bPvNPrgsbuEO",
        "outputId": "17d358e5-c2d7-41ff-9c72-3a570b473638"
      },
      "execution_count": null,
      "outputs": [
        {
          "output_type": "stream",
          "name": "stdout",
          "text": [
            "Num1: 3\n",
            "Num2: 5\n",
            "La resta es:  8.0\n"
          ]
        }
      ]
    },
    {
      "cell_type": "code",
      "source": [
        "#Ejercicio haciendo uso de funciones de usuario\n",
        "def celciusfarenheit(c):\n",
        "  return c*1.8 + 32"
      ],
      "metadata": {
        "id": "wWg-0v6OU2kJ"
      },
      "execution_count": null,
      "outputs": []
    },
    {
      "cell_type": "code",
      "source": [
        "c = int(input(\"Grados c:\"))\n",
        "f = celciusfarenheit(c)\n",
        "print(\"f:\", f)"
      ],
      "metadata": {
        "colab": {
          "base_uri": "https://localhost:8080/"
        },
        "id": "w-ndf73wXfTu",
        "outputId": "6ed208b5-59cb-4318-9176-d56cc386c939"
      },
      "execution_count": null,
      "outputs": [
        {
          "output_type": "stream",
          "name": "stdout",
          "text": [
            "Grados c:35\n",
            "f: 95.0\n"
          ]
        }
      ]
    },
    {
      "cell_type": "code",
      "source": [
        "#ejercio que combierta grados farenheit a celcius\n",
        "def farenheitcelcius(c):\n",
        " return (f - 32) * 5/9"
      ],
      "metadata": {
        "id": "AW4ZiOxeZamO"
      },
      "execution_count": null,
      "outputs": []
    },
    {
      "cell_type": "code",
      "source": [
        "f = float(input(\"Grados f:\"))\n",
        "c = farenheitcelcius(f)\n",
        "print(\"c:\", c)"
      ],
      "metadata": {
        "id": "JaMshYkZaIzT",
        "colab": {
          "base_uri": "https://localhost:8080/"
        },
        "outputId": "abd69d57-b0a3-4acd-888c-a5124215c767"
      },
      "execution_count": null,
      "outputs": [
        {
          "output_type": "stream",
          "name": "stdout",
          "text": [
            "Grados f:95.0\n",
            "c: 35.0\n"
          ]
        }
      ]
    },
    {
      "cell_type": "code",
      "source": [
        "#comvertir de ngrados celcius a kelvin\n",
        "def celciuskelvin(c):\n",
        "  return c + 273.15\n"
      ],
      "metadata": {
        "id": "QwndRzJde3EH"
      },
      "execution_count": null,
      "outputs": []
    },
    {
      "cell_type": "code",
      "source": [
        "c = float(input(\"Grados c:\"))\n",
        "k = celciuskelvin(c)\n",
        "print(\"k:\", k)"
      ],
      "metadata": {
        "colab": {
          "base_uri": "https://localhost:8080/"
        },
        "id": "igf7aTb4fWYa",
        "outputId": "ff51deba-9c61-4437-9907-ae1833911a20"
      },
      "execution_count": null,
      "outputs": [
        {
          "output_type": "stream",
          "name": "stdout",
          "text": [
            "Grados c:32\n",
            "k: 305.15\n"
          ]
        }
      ]
    },
    {
      "cell_type": "code",
      "source": [
        "#ejercio haciendo uso de funciones de usuario que\n",
        "#calcule el sueldo de un empleado\n",
        "#segun el  numero de horas trabajadasy el valor por hora\n",
        "\n",
        "def sueldo(horas, valor):\n",
        "  sueldo = horas * valor * 30\n",
        "  return sueldo\n"
      ],
      "metadata": {
        "id": "W9ShGFpahc80"
      },
      "execution_count": null,
      "outputs": []
    },
    {
      "cell_type": "code",
      "source": [
        "horas = float(input(\"Horas trabajadas:\"))\n",
        "valor = float(input(\"Valor por hora:\"))\n",
        "sueldo = sueldo(horas, valor)\n",
        "\n",
        "print(\"Sueldo:\", sueldo)"
      ],
      "metadata": {
        "id": "yfXsyf0yh80z"
      },
      "execution_count": null,
      "outputs": []
    },
    {
      "cell_type": "code",
      "source": [
        "#ejercio que permita elevar un numero a un exponente\n",
        "def exponente(base, exponente):\n",
        "  return base ** exponente\n",
        "\n",
        "  base = float(input(\"Base:\"))\n",
        "  exponente = float(input(\"Exponente:\"))\n",
        "\n",
        "  resultado = exponente(base, exponente)\n",
        "  print(\"El Numero:\", base, )"
      ],
      "metadata": {
        "id": "xD1yxPvjjzYQ"
      },
      "execution_count": null,
      "outputs": []
    },
    {
      "cell_type": "markdown",
      "source": [
        "FUNCIONES ANONIMAS"
      ],
      "metadata": {
        "id": "-duEilWYYOpe"
      }
    },
    {
      "cell_type": "code",
      "source": [
        "def suma(a,b):\n",
        "  return a+b"
      ],
      "metadata": {
        "id": "HI_pgWBiYSD9"
      },
      "execution_count": null,
      "outputs": []
    },
    {
      "cell_type": "code",
      "source": [
        "a = float(input(\"Num1: \"))\n",
        "b = float(input(\"Num2: \"))\n",
        "\n",
        "suma = suma(a,b)\n",
        "print(\"La suma es: \", suma)"
      ],
      "metadata": {
        "id": "vfba7RQ1YVVi"
      },
      "execution_count": null,
      "outputs": []
    },
    {
      "cell_type": "code",
      "source": [
        "a = float(input(\"Num1: \"))\n",
        "b = float(input(\"Num2: \"))\n",
        "\n",
        "sum = lambda a,b: a+b\n",
        "print( \"La suma de \", a, \" mas b \", b, \" es igual \", sum(a,b) )"
      ],
      "metadata": {
        "id": "WnxuhNajYalY"
      },
      "execution_count": null,
      "outputs": []
    },
    {
      "cell_type": "markdown",
      "source": [
        "FUNCIONES PRECONSTRUIDAS"
      ],
      "metadata": {
        "id": "r4bfTdHTYgNZ"
      }
    },
    {
      "cell_type": "code",
      "source": [
        "\n",
        "def extraerPrimeraLetra(dia):\n",
        "  return dia[0]"
      ],
      "metadata": {
        "id": "fuyyqef5Y5Tt"
      },
      "execution_count": null,
      "outputs": []
    },
    {
      "cell_type": "code",
      "source": [
        "#map\n",
        "semana = [\"Domingo\", \"Lunes\", \"Martes\", \"Miercoles\", \"Jueves\", \"Viernes\", \"Sabado\"]\n",
        "\n",
        "primeraLetraDia = map(lambda dia: dia[0], semana)\n",
        "print(list(primeraLetraDia))\n",
        "\n",
        "mayusSemana = map(lambda dia: dia.upper(), semana)\n",
        "print(list(mayusSemana))\n",
        "\n",
        "print( list(map(extraerPrimeraLetra, semana)) )"
      ],
      "metadata": {
        "id": "3fLlsFJmY6A6"
      },
      "execution_count": null,
      "outputs": []
    },
    {
      "cell_type": "code",
      "source": [
        "numeros = [2,4,6,8,7,9]\n",
        "potencia = int(input(\"Potencia: \"))\n",
        "numeroPotencia = map(lambda num: num**potencia, numeros)\n",
        "\n",
        "print(list(numeroPotencia))"
      ],
      "metadata": {
        "id": "nGNjZg03ZAwp"
      },
      "execution_count": null,
      "outputs": []
    },
    {
      "cell_type": "code",
      "source": [
        "ntabla  = int(input(\"Tabla:\"))\n",
        "numeros = [1,2,3,4,5,6,7,8,9,10]\n",
        "tabla = map(lambda num: num*ntabla, numeros)\n",
        "\n",
        "print(list(tabla))"
      ],
      "metadata": {
        "id": "tPrzXD3iZMHb"
      },
      "execution_count": null,
      "outputs": []
    },
    {
      "cell_type": "code",
      "source": [
        "serie = [5,6,9,2,7,8]\n",
        "pares = filter(lambda num: num%2==0, serie) #% ===> a modulo, obtener el residuo.\n",
        "\n",
        "print(list(pares))\n",
        "\n",
        "impares = filter(lambda num: num%2!=0, serie)\n",
        "\n",
        "print(list(impares))"
      ],
      "metadata": {
        "id": "O4gSoXNOZRFu"
      },
      "execution_count": null,
      "outputs": []
    },
    {
      "cell_type": "code",
      "source": [
        "serieUser = input(\"Serie: \") # \"5,2,8,1\" --> serie[0]=\"5\"; serie[1]=\"2\"; etc..\n",
        "serieUser = serieUser.split(\",\")\n",
        "\n",
        "pares = filter(lambda num: int(num)%2==0, serieUser)\n",
        "impares = filter(lambda num: int(num)%2!=0, serieUser)\n",
        "\n",
        "print(\"Pares: \",list(pares))\n",
        "print(\"Impares: \", list(impares))"
      ],
      "metadata": {
        "id": "LgQcNgiGZUVT"
      },
      "execution_count": null,
      "outputs": []
    },
    {
      "cell_type": "markdown",
      "source": [
        "Funcion Reduce"
      ],
      "metadata": {
        "id": "-xTWVKKMavl1"
      }
    },
    {
      "cell_type": "code",
      "source": [
        "#reduce\n",
        "from functools import reduce\n",
        "numeros = [5,4,9,6,8,2,3]\n",
        "suma = reduce(lambda acum, num: acum + num, numeros)\n",
        "\n",
        "sumaPares = reduce(lambda acum, num: acum + num if num % 2 == 0 else acum, numeros, 0)\n",
        "\n",
        "print(\"La suma es: \", suma)\n",
        "print(\"La suma de los pares es: \", sumaPares)\n",
        "print(\"Suma Pares: \", sumaPares)\n",
        "\n",
        "#"
      ],
      "metadata": {
        "id": "JXn6-WKUZkeB"
      },
      "execution_count": null,
      "outputs": []
    },
    {
      "cell_type": "markdown",
      "source": [
        "TUPLAS"
      ],
      "metadata": {
        "id": "LNOfjLE1fC5l"
      }
    },
    {
      "cell_type": "code",
      "source": [
        "tupla = (1,2,3,7,8,9)\n",
        "tupla[0] = 5\n",
        "print(\"Tupla: \", tupla, \"Primer elemento\", tupla[0], \"El numero 5 pertenece a la tupla: \" tupla.coun(5))\n",
        "print(\"Ultimo elemento: \", tupla[-1])\n",
        "print(\"Rango: \", tupla[0:5])\n"
      ],
      "metadata": {
        "id": "kDR0MvfIfE4h"
      },
      "execution_count": null,
      "outputs": []
    },
    {
      "cell_type": "code",
      "source": [
        "import datetime\n",
        "fecha = datetime.date.today()\n",
        "semana = \"Lunes\", \"Martes\", \"Miercoles\", \"Jueves\", \"Viernes\", \"Sabado\", \"Domingo\"\n",
        "meses = \"Enero\", \"Febrero\", \"Marzo\", \"Abril\", \"Mayo\", \"Junio\", \"Julio\", \"Agosto\", \"Septiembre\", \"Octubre\", \"Noviembre\", \"Diciembre\"\n",
        "dia = fecha.day\n",
        "mes = fecha.month\n",
        "year = fecha.year\n",
        "diaSemana = semana[fecha.isoweekday()]\n",
        "\n",
        "print(diaSemana, dia, \"de\", meses[mes], \"del\", year)\n",
        "print(fecha, fecha.isoweekday(), diaSemana)\n",
        "print(dia, mes, year)\n"
      ],
      "metadata": {
        "id": "08NejxHAjJix"
      },
      "execution_count": null,
      "outputs": []
    },
    {
      "cell_type": "markdown",
      "source": [
        "LISTA"
      ],
      "metadata": {
        "id": "a2dXpL2RmQUK"
      }
    },
    {
      "cell_type": "code",
      "source": [
        "lista = [5,8,9,4, \"Progra III\", True, [4,8,9, [8,9,4]]]\n",
        "print(lista)\n"
      ],
      "metadata": {
        "id": "0XNJsvkZmTAF"
      },
      "execution_count": null,
      "outputs": []
    },
    {
      "cell_type": "code",
      "source": [
        "def calcularPromedio(nota, notas):\n",
        "  return notas(1)8*0.3 + nota 9*0.3 + 10*0.4\n"
      ],
      "metadata": {
        "id": "78hkOPwwnld1",
        "colab": {
          "base_uri": "https://localhost:8080/",
          "height": 106
        },
        "collapsed": true,
        "outputId": "533ee185-9acb-43b2-b61e-6a10147008b7"
      },
      "execution_count": 6,
      "outputs": [
        {
          "output_type": "error",
          "ename": "SyntaxError",
          "evalue": "invalid syntax (ipython-input-3555941328.py, line 2)",
          "traceback": [
            "\u001b[0;36m  File \u001b[0;32m\"/tmp/ipython-input-3555941328.py\"\u001b[0;36m, line \u001b[0;32m2\u001b[0m\n\u001b[0;31m    return notas(1)8*0.3 + nota 9*0.3 + 10*0.4\u001b[0m\n\u001b[0m                   ^\u001b[0m\n\u001b[0;31mSyntaxError\u001b[0m\u001b[0;31m:\u001b[0m invalid syntax\n"
          ]
        }
      ]
    },
    {
      "cell_type": "code",
      "source": [
        "# Hacer un ejercicio que obtenga la nota final de Progra III, computo 1\n",
        "from functools import reduce\n",
        "\n",
        "notas = [\n",
        "    [\"Lab1\", 8, 0.3],\n",
        "    [\"Lab2\", 9,0.3],\n",
        "    [\"Parcial1\", 9, 0.4]\n",
        "\n",
        "    [\"Lab1\", 8, 0.3],\n",
        "    [\"Lab2\", 9,0.3],\n",
        "    [\"Parcial2\", 9, 0.4]\n",
        "\n",
        "    [\"Lab1\", 8, 0.3],\n",
        "    [\"Lab2\", 9,0.3],\n",
        "    [\"Parcial3\", 9, 0.4]\n",
        "]\n",
        "prom = reduce(calcularPromedio, notas, 0)\n",
        "nf = prom / 3\n",
        "print(\"Nota final: \", nf)\n",
        "\n",
        "\n"
      ],
      "metadata": {
        "id": "TXZpN9hvnAVT",
        "colab": {
          "base_uri": "https://localhost:8080/",
          "height": 349
        },
        "outputId": "fb980616-9b89-4336-91cf-b3f3fb960f87"
      },
      "execution_count": 5,
      "outputs": [
        {
          "output_type": "stream",
          "name": "stderr",
          "text": [
            "<>:7: SyntaxWarning: list indices must be integers or slices, not tuple; perhaps you missed a comma?\n",
            "<>:11: SyntaxWarning: list indices must be integers or slices, not tuple; perhaps you missed a comma?\n",
            "<>:7: SyntaxWarning: list indices must be integers or slices, not tuple; perhaps you missed a comma?\n",
            "<>:11: SyntaxWarning: list indices must be integers or slices, not tuple; perhaps you missed a comma?\n",
            "/tmp/ipython-input-3687686317.py:7: SyntaxWarning: list indices must be integers or slices, not tuple; perhaps you missed a comma?\n",
            "  [\"Parcial1\", 9, 0.4]\n",
            "/tmp/ipython-input-3687686317.py:11: SyntaxWarning: list indices must be integers or slices, not tuple; perhaps you missed a comma?\n",
            "  [\"Parcial2\", 9, 0.4]\n"
          ]
        },
        {
          "output_type": "error",
          "ename": "TypeError",
          "evalue": "list indices must be integers or slices, not tuple",
          "traceback": [
            "\u001b[0;31m---------------------------------------------------------------------------\u001b[0m",
            "\u001b[0;31mTypeError\u001b[0m                                 Traceback (most recent call last)",
            "\u001b[0;32m/tmp/ipython-input-3687686317.py\u001b[0m in \u001b[0;36m<cell line: 0>\u001b[0;34m()\u001b[0m\n\u001b[1;32m      5\u001b[0m     \u001b[0;34m[\u001b[0m\u001b[0;34m\"Lab1\"\u001b[0m\u001b[0;34m,\u001b[0m \u001b[0;36m8\u001b[0m\u001b[0;34m,\u001b[0m \u001b[0;36m0.3\u001b[0m\u001b[0;34m]\u001b[0m\u001b[0;34m,\u001b[0m\u001b[0;34m\u001b[0m\u001b[0;34m\u001b[0m\u001b[0m\n\u001b[1;32m      6\u001b[0m     \u001b[0;34m[\u001b[0m\u001b[0;34m\"Lab2\"\u001b[0m\u001b[0;34m,\u001b[0m \u001b[0;36m9\u001b[0m\u001b[0;34m,\u001b[0m\u001b[0;36m0.3\u001b[0m\u001b[0;34m]\u001b[0m\u001b[0;34m,\u001b[0m\u001b[0;34m\u001b[0m\u001b[0;34m\u001b[0m\u001b[0m\n\u001b[0;32m----> 7\u001b[0;31m     \u001b[0;34m[\u001b[0m\u001b[0;34m\"Parcial1\"\u001b[0m\u001b[0;34m,\u001b[0m \u001b[0;36m9\u001b[0m\u001b[0;34m,\u001b[0m \u001b[0;36m0.4\u001b[0m\u001b[0;34m]\u001b[0m\u001b[0;34m\u001b[0m\u001b[0;34m\u001b[0m\u001b[0m\n\u001b[0m\u001b[1;32m      8\u001b[0m \u001b[0;34m\u001b[0m\u001b[0m\n\u001b[1;32m      9\u001b[0m     \u001b[0;34m[\u001b[0m\u001b[0;34m\"Lab1\"\u001b[0m\u001b[0;34m,\u001b[0m \u001b[0;36m8\u001b[0m\u001b[0;34m,\u001b[0m \u001b[0;36m0.3\u001b[0m\u001b[0;34m]\u001b[0m\u001b[0;34m,\u001b[0m\u001b[0;34m\u001b[0m\u001b[0;34m\u001b[0m\u001b[0m\n",
            "\u001b[0;31mTypeError\u001b[0m: list indices must be integers or slices, not tuple"
          ]
        }
      ]
    },
    {
      "cell_type": "code",
      "source": [
        "from functools import reduce\n",
        "\n",
        "notas = []\n",
        "    [\"Lab1\", 8, 0.3],\n",
        "    [\"Lab2\", 9,0.3],\n",
        "    [\"Parcial1\", 9, 0.4]\n",
        "\n",
        "    [\"Lab1\", 8, 0.3],\n",
        "    [\"Lab2\", 9,0.3],\n",
        "    [\"Parcial2\", 9, 0.4]\n",
        "\n",
        "    [\"Lab1\", 8, 0.3],\n",
        "    [\"Lab2\", 9,0.3],\n",
        "    [\"Parcial3\", 9, 0.4]\n",
        "]\n",
        "prom = reduce(calcularPromedio, notas, 0)\n",
        "nf = prom / 3\n",
        "print(\"Nota final: \", nf)\n",
        "\n",
        "\n"
      ],
      "metadata": {
        "id": "khXWWDGeXcuH"
      },
      "execution_count": null,
      "outputs": []
    }
  ]
}