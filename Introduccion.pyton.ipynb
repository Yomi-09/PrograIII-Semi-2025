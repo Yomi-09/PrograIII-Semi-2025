{
  "cells": [
    {
      "cell_type": "markdown",
      "metadata": {
        "id": "view-in-github",
        "colab_type": "text"
      },
      "source": [
        "<a href=\"https://colab.research.google.com/github/Yomi-09/PrograIII-Semi-2025/blob/main/Introduccion.pyton.ipynb\" target=\"_parent\"><img src=\"https://colab.research.google.com/assets/colab-badge.svg\" alt=\"Open In Colab\"/></a>"
      ]
    },
    {
      "cell_type": "code",
      "execution_count": null,
      "metadata": {
        "colab": {
          "base_uri": "https://localhost:8080/"
        },
        "id": "rvrFWm1wb5HS",
        "outputId": "0672d03d-6a3b-428e-9e25-b4cb7cb2c505"
      },
      "outputs": [
        {
          "name": "stdout",
          "output_type": "stream",
          "text": [
            "Hola Mundo\n",
            "Bienvenidos chicos a programación Computacional III\n"
          ]
        }
      ],
      "source": [
        "print(\"Hola Mundo\")\n",
        "print(\"Bienvenidos chicos a programación Computacional III\")"
      ]
    },
    {
      "cell_type": "code",
      "execution_count": null,
      "metadata": {
        "colab": {
          "base_uri": "https://localhost:8080/"
        },
        "id": "toqtW9qmdL6Z",
        "outputId": "d9b76d02-f1fd-46b7-fffb-4603e6ffa172"
      },
      "outputs": [
        {
          "name": "stdout",
          "output_type": "stream",
          "text": [
            "Yomi Carrazco 20\n",
            "tu edad: veinte\n"
          ]
        }
      ],
      "source": [
        "nombre = \"Yomi Carrazco\"\n",
        "edad = 20\n",
        "print(nombre, edad)\n",
        "\n",
        "edad = \"veinte\"\n",
        "print(\"tu edad:\", edad)"
      ]
    },
    {
      "cell_type": "code",
      "execution_count": null,
      "metadata": {
        "colab": {
          "base_uri": "https://localhost:8080/"
        },
        "id": "LGbBKR0zdz-8",
        "outputId": "81822f02-5242-4cd2-fad9-8f1e38f2ff4b"
      },
      "outputs": [
        {
          "name": "stdout",
          "output_type": "stream",
          "text": [
            "la suma es: 13.9\n"
          ]
        }
      ],
      "source": [
        "num1 = 5\n",
        "num2 = 8.9\n",
        "suma = num1 + num2\n",
        "print(\"la suma es:\", suma)"
      ]
    },
    {
      "cell_type": "code",
      "execution_count": null,
      "metadata": {
        "colab": {
          "base_uri": "https://localhost:8080/"
        },
        "id": "N0yduUiyfk5n",
        "outputId": "17e62fdf-ae05-4250-d193-6384f330d29e"
      },
      "outputs": [
        {
          "name": "stdout",
          "output_type": "stream",
          "text": [
            "num1:3\n",
            "num2:4\n",
            "la suma es: 7.0\n"
          ]
        }
      ],
      "source": [
        "num1 = float(input(\"num1:\"))\n",
        "num2 = float(input(\"num2:\"))\n",
        "suma = num1 + num2\n",
        "print(\"la suma es:\", suma)"
      ]
    },
    {
      "cell_type": "code",
      "execution_count": null,
      "metadata": {
        "colab": {
          "base_uri": "https://localhost:8080/"
        },
        "id": "Mreo9aNehyMa",
        "outputId": "e11cdd4f-423b-4143-8bcf-220c75f7608b"
      },
      "outputs": [
        {
          "name": "stdout",
          "output_type": "stream",
          "text": [
            "num1:7\n",
            "num2:5\n",
            "la resta es: 2.0\n"
          ]
        }
      ],
      "source": [
        "num1 = float(input(\"num1:\"))\n",
        "num2 = float(input(\"num2:\"))\n",
        "resta = num1 - num2\n",
        "print(\"la resta es:\", resta)"
      ]
    },
    {
      "cell_type": "markdown",
      "metadata": {
        "id": "psRXPvNWMg4h"
      },
      "source": [
        "TIPOS DE DATOS EN PYTHON"
      ]
    },
    {
      "cell_type": "code",
      "execution_count": null,
      "metadata": {
        "colab": {
          "base_uri": "https://localhost:8080/"
        },
        "id": "n9N3kUt4MgNa",
        "outputId": "423d5708-0a7c-4de4-bdce-40f822b1e710"
      },
      "outputs": [
        {
          "name": "stdout",
          "output_type": "stream",
          "text": [
            "6 Esto es un numero entero\n",
            "6Esto es un entero\n",
            "7.5 Esto es un numero entero\n",
            "True Esto es un Booleano\n"
          ]
        }
      ],
      "source": [
        "#ENTERO\n",
        "num1 = 6\n",
        "print(num1, \"Esto es un numero entero\")\n",
        "print( str(num1) + \"Esto es un entero\")\n",
        "\n",
        "#DECIMAL\n",
        "num2 = 7.5\n",
        "print(num2, \"Esto es un numero entero\")\n",
        "\n",
        "#BOOLEANO\n",
        "esMayor = True\n",
        "print(esMayor, \"Esto es un Booleano\")\n",
        "\n",
        "\n",
        "\n"
      ]
    },
    {
      "cell_type": "code",
      "execution_count": null,
      "metadata": {
        "id": "MMwizWoGbiTR"
      },
      "outputs": [],
      "source": [
        "#RESTA\n",
        "def resta(num1, num2):\n",
        "  return num1 + num2\n",
        "\n"
      ]
    },
    {
      "cell_type": "code",
      "execution_count": null,
      "metadata": {
        "colab": {
          "base_uri": "https://localhost:8080/"
        },
        "id": "uJgEb8rjbsgF",
        "outputId": "d0ffae36-28c5-4e72-a345-a4bba4175de1"
      },
      "outputs": [
        {
          "name": "stdout",
          "output_type": "stream",
          "text": [
            "La resta de 5 + 8 =  13\n"
          ]
        }
      ],
      "source": [
        "print(\"La resta de 5 + 8 = \", resta(5,8))"
      ]
    },
    {
      "cell_type": "code",
      "execution_count": null,
      "metadata": {
        "colab": {
          "base_uri": "https://localhost:8080/"
        },
        "id": "bPvNPrgsbuEO",
        "outputId": "17d358e5-c2d7-41ff-9c72-3a570b473638"
      },
      "outputs": [
        {
          "name": "stdout",
          "output_type": "stream",
          "text": [
            "Num1: 3\n",
            "Num2: 5\n",
            "La resta es:  8.0\n"
          ]
        }
      ],
      "source": [
        "num1 = float(input(\"Num1: \"))\n",
        "num2 = float(input(\"Num2: \"))\n",
        "respuesta = resta(num1, num2)\n",
        "print(\"La resta es: \", respuesta)"
      ]
    },
    {
      "cell_type": "code",
      "execution_count": null,
      "metadata": {
        "id": "wWg-0v6OU2kJ"
      },
      "outputs": [],
      "source": [
        "#Ejercicio haciendo uso de funciones de usuario\n",
        "def celciusfarenheit(c):\n",
        "  return c*1.8 + 32"
      ]
    },
    {
      "cell_type": "code",
      "execution_count": null,
      "metadata": {
        "colab": {
          "base_uri": "https://localhost:8080/"
        },
        "id": "w-ndf73wXfTu",
        "outputId": "6ed208b5-59cb-4318-9176-d56cc386c939"
      },
      "outputs": [
        {
          "name": "stdout",
          "output_type": "stream",
          "text": [
            "Grados c:35\n",
            "f: 95.0\n"
          ]
        }
      ],
      "source": [
        "c = int(input(\"Grados c:\"))\n",
        "f = celciusfarenheit(c)\n",
        "print(\"f:\", f)"
      ]
    },
    {
      "cell_type": "code",
      "execution_count": null,
      "metadata": {
        "id": "AW4ZiOxeZamO"
      },
      "outputs": [],
      "source": [
        "#ejercio que combierta grados farenheit a celcius\n",
        "def farenheitcelcius(c):\n",
        " return (f - 32) * 5/9"
      ]
    },
    {
      "cell_type": "code",
      "execution_count": null,
      "metadata": {
        "colab": {
          "base_uri": "https://localhost:8080/"
        },
        "id": "JaMshYkZaIzT",
        "outputId": "abd69d57-b0a3-4acd-888c-a5124215c767"
      },
      "outputs": [
        {
          "name": "stdout",
          "output_type": "stream",
          "text": [
            "Grados f:95.0\n",
            "c: 35.0\n"
          ]
        }
      ],
      "source": [
        "f = float(input(\"Grados f:\"))\n",
        "c = farenheitcelcius(f)\n",
        "print(\"c:\", c)"
      ]
    },
    {
      "cell_type": "code",
      "execution_count": null,
      "metadata": {
        "id": "QwndRzJde3EH"
      },
      "outputs": [],
      "source": [
        "#comvertir de ngrados celcius a kelvin\n",
        "def celciuskelvin(c):\n",
        "  return c + 273.15\n"
      ]
    },
    {
      "cell_type": "code",
      "execution_count": null,
      "metadata": {
        "colab": {
          "base_uri": "https://localhost:8080/"
        },
        "id": "igf7aTb4fWYa",
        "outputId": "ff51deba-9c61-4437-9907-ae1833911a20"
      },
      "outputs": [
        {
          "name": "stdout",
          "output_type": "stream",
          "text": [
            "Grados c:32\n",
            "k: 305.15\n"
          ]
        }
      ],
      "source": [
        "c = float(input(\"Grados c:\"))\n",
        "k = celciuskelvin(c)\n",
        "print(\"k:\", k)"
      ]
    },
    {
      "cell_type": "code",
      "execution_count": null,
      "metadata": {
        "id": "W9ShGFpahc80"
      },
      "outputs": [],
      "source": [
        "#ejercio haciendo uso de funciones de usuario que\n",
        "#calcule el sueldo de un empleado\n",
        "#segun el  numero de horas trabajadasy el valor por hora\n",
        "\n",
        "def sueldo(horas, valor):\n",
        "  sueldo = horas * valor * 30\n",
        "  return sueldo\n"
      ]
    },
    {
      "cell_type": "code",
      "execution_count": null,
      "metadata": {
        "id": "yfXsyf0yh80z"
      },
      "outputs": [],
      "source": [
        "horas = float(input(\"Horas trabajadas:\"))\n",
        "valor = float(input(\"Valor por hora:\"))\n",
        "sueldo = sueldo(horas, valor)\n",
        "\n",
        "print(\"Sueldo:\", sueldo)"
      ]
    },
    {
      "cell_type": "code",
      "execution_count": null,
      "metadata": {
        "id": "xD1yxPvjjzYQ"
      },
      "outputs": [],
      "source": [
        "#ejercio que permita elevar un numero a un exponente\n",
        "def exponente(base, exponente):\n",
        "  return base ** exponente\n",
        "\n",
        "  base = float(input(\"Base:\"))\n",
        "  exponente = float(input(\"Exponente:\"))\n",
        "\n",
        "  resultado = exponente(base, exponente)\n",
        "  print(\"El Numero:\", base, )"
      ]
    },
    {
      "cell_type": "markdown",
      "metadata": {
        "id": "-duEilWYYOpe"
      },
      "source": [
        "FUNCIONES ANONIMAS"
      ]
    },
    {
      "cell_type": "code",
      "execution_count": null,
      "metadata": {
        "id": "HI_pgWBiYSD9"
      },
      "outputs": [],
      "source": [
        "def suma(a,b):\n",
        "  return a+b"
      ]
    },
    {
      "cell_type": "code",
      "execution_count": null,
      "metadata": {
        "id": "vfba7RQ1YVVi"
      },
      "outputs": [],
      "source": [
        "a = float(input(\"Num1: \"))\n",
        "b = float(input(\"Num2: \"))\n",
        "\n",
        "suma = suma(a,b)\n",
        "print(\"La suma es: \", suma)"
      ]
    },
    {
      "cell_type": "code",
      "execution_count": null,
      "metadata": {
        "id": "WnxuhNajYalY"
      },
      "outputs": [],
      "source": [
        "a = float(input(\"Num1: \"))\n",
        "b = float(input(\"Num2: \"))\n",
        "\n",
        "sum = lambda a,b: a+b\n",
        "print( \"La suma de \", a, \" mas b \", b, \" es igual \", sum(a,b) )"
      ]
    },
    {
      "cell_type": "markdown",
      "metadata": {
        "id": "r4bfTdHTYgNZ"
      },
      "source": [
        "FUNCIONES PRECONSTRUIDAS"
      ]
    },
    {
      "cell_type": "code",
      "execution_count": null,
      "metadata": {
        "id": "fuyyqef5Y5Tt"
      },
      "outputs": [],
      "source": [
        "\n",
        "def extraerPrimeraLetra(dia):\n",
        "  return dia[0]"
      ]
    },
    {
      "cell_type": "code",
      "execution_count": null,
      "metadata": {
        "id": "3fLlsFJmY6A6"
      },
      "outputs": [],
      "source": [
        "#map\n",
        "semana = [\"Domingo\", \"Lunes\", \"Martes\", \"Miercoles\", \"Jueves\", \"Viernes\", \"Sabado\"]\n",
        "\n",
        "primeraLetraDia = map(lambda dia: dia[0], semana)\n",
        "print(list(primeraLetraDia))\n",
        "\n",
        "mayusSemana = map(lambda dia: dia.upper(), semana)\n",
        "print(list(mayusSemana))\n",
        "\n",
        "print( list(map(extraerPrimeraLetra, semana)) )"
      ]
    },
    {
      "cell_type": "code",
      "execution_count": null,
      "metadata": {
        "id": "nGNjZg03ZAwp"
      },
      "outputs": [],
      "source": [
        "numeros = [2,4,6,8,7,9]\n",
        "potencia = int(input(\"Potencia: \"))\n",
        "numeroPotencia = map(lambda num: num**potencia, numeros)\n",
        "\n",
        "print(list(numeroPotencia))"
      ]
    },
    {
      "cell_type": "code",
      "execution_count": null,
      "metadata": {
        "id": "tPrzXD3iZMHb"
      },
      "outputs": [],
      "source": [
        "ntabla  = int(input(\"Tabla:\"))\n",
        "numeros = [1,2,3,4,5,6,7,8,9,10]\n",
        "tabla = map(lambda num: num*ntabla, numeros)\n",
        "\n",
        "print(list(tabla))"
      ]
    },
    {
      "cell_type": "code",
      "execution_count": null,
      "metadata": {
        "id": "O4gSoXNOZRFu"
      },
      "outputs": [],
      "source": [
        "serie = [5,6,9,2,7,8]\n",
        "pares = filter(lambda num: num%2==0, serie) #% ===> a modulo, obtener el residuo.\n",
        "\n",
        "print(list(pares))\n",
        "\n",
        "impares = filter(lambda num: num%2!=0, serie)\n",
        "\n",
        "print(list(impares))"
      ]
    },
    {
      "cell_type": "code",
      "execution_count": null,
      "metadata": {
        "id": "LgQcNgiGZUVT"
      },
      "outputs": [],
      "source": [
        "serieUser = input(\"Serie: \") # \"5,2,8,1\" --> serie[0]=\"5\"; serie[1]=\"2\"; etc..\n",
        "serieUser = serieUser.split(\",\")\n",
        "\n",
        "pares = filter(lambda num: int(num)%2==0, serieUser)\n",
        "impares = filter(lambda num: int(num)%2!=0, serieUser)\n",
        "\n",
        "print(\"Pares: \",list(pares))\n",
        "print(\"Impares: \", list(impares))"
      ]
    },
    {
      "cell_type": "markdown",
      "metadata": {
        "id": "-xTWVKKMavl1"
      },
      "source": [
        "Funcion Reduce"
      ]
    },
    {
      "cell_type": "code",
      "execution_count": null,
      "metadata": {
        "id": "JXn6-WKUZkeB"
      },
      "outputs": [],
      "source": [
        "#reduce\n",
        "from functools import reduce\n",
        "numeros = [5,4,9,6,8,2,3]\n",
        "suma = reduce(lambda acum, num: acum + num, numeros)\n",
        "\n",
        "sumaPares = reduce(lambda acum, num: acum + num if num % 2 == 0 else acum, numeros, 0)\n",
        "\n",
        "print(\"La suma es: \", suma)\n",
        "print(\"La suma de los pares es: \", sumaPares)\n",
        "print(\"Suma Pares: \", sumaPares)\n",
        "\n",
        "#"
      ]
    },
    {
      "cell_type": "markdown",
      "metadata": {
        "id": "LNOfjLE1fC5l"
      },
      "source": [
        "TUPLAS"
      ]
    },
    {
      "cell_type": "code",
      "execution_count": null,
      "metadata": {
        "id": "kDR0MvfIfE4h"
      },
      "outputs": [],
      "source": [
        "tupla = (1,2,3,7,8,9)\n",
        "tupla[0] = 5\n",
        "print(\"Tupla: \", tupla, \"Primer elemento\", tupla[0], \"El numero 5 pertenece a la tupla: \" tupla.coun(5))\n",
        "print(\"Ultimo elemento: \", tupla[-1])\n",
        "print(\"Rango: \", tupla[0:5])\n"
      ]
    },
    {
      "cell_type": "code",
      "execution_count": null,
      "metadata": {
        "id": "08NejxHAjJix"
      },
      "outputs": [],
      "source": [
        "import datetime\n",
        "fecha = datetime.date.today()\n",
        "semana = \"Lunes\", \"Martes\", \"Miercoles\", \"Jueves\", \"Viernes\", \"Sabado\", \"Domingo\"\n",
        "meses = \"Enero\", \"Febrero\", \"Marzo\", \"Abril\", \"Mayo\", \"Junio\", \"Julio\", \"Agosto\", \"Septiembre\", \"Octubre\", \"Noviembre\", \"Diciembre\"\n",
        "dia = fecha.day\n",
        "mes = fecha.month\n",
        "year = fecha.year\n",
        "diaSemana = semana[fecha.isoweekday()]\n",
        "\n",
        "print(diaSemana, dia, \"de\", meses[mes], \"del\", year)\n",
        "print(fecha, fecha.isoweekday(), diaSemana)\n",
        "print(dia, mes, year)\n"
      ]
    },
    {
      "cell_type": "markdown",
      "metadata": {
        "id": "a2dXpL2RmQUK"
      },
      "source": [
        "LISTA"
      ]
    },
    {
      "cell_type": "code",
      "execution_count": null,
      "metadata": {
        "id": "0XNJsvkZmTAF"
      },
      "outputs": [],
      "source": [
        "lista = [5,8,9,4, \"Progra III\", True, [4,8,9, [8,9,4]]]\n",
        "print(lista)\n"
      ]
    },
    {
      "cell_type": "code",
      "execution_count": null,
      "metadata": {
        "id": "78hkOPwwnld1"
      },
      "outputs": [],
      "source": [
        "def calcularPromedio(nota, notas):\n",
        "  return notas(1)8*0.3 + nota 9*0.3 + 10*0.4\n"
      ]
    },
    {
      "cell_type": "code",
      "execution_count": null,
      "metadata": {
        "id": "TXZpN9hvnAVT"
      },
      "outputs": [],
      "source": [
        "# Hacer un ejercicio que obtenga la nota final de Progra III, computo 1\n",
        "from functools import reduce\n",
        "\n",
        "notas = [\n",
        "    [\"Lab1\", 8, 0.3],\n",
        "    [\"Lab2\", 9,0.3],\n",
        "    [\"Parcial1\", 9, 0.4]\n",
        "\n",
        "    [\"Lab1\", 8, 0.3],\n",
        "    [\"Lab2\", 9,0.3],\n",
        "    [\"Parcial2\", 9, 0.4]\n",
        "\n",
        "    [\"Lab1\", 8, 0.3],\n",
        "    [\"Lab2\", 9,0.3],\n",
        "    [\"Parcial3\", 9, 0.4]\n",
        "]\n",
        "prom = reduce(calcularPromedio, notas, 0)\n",
        "nf = prom / 3\n",
        "print(\"Nota final: \", nf)\n",
        "\n",
        "\n"
      ]
    },
    {
      "cell_type": "code",
      "execution_count": null,
      "metadata": {
        "id": "khXWWDGeXcuH"
      },
      "outputs": [],
      "source": [
        "from functools import reduce\n",
        "\n",
        "notas = []\n",
        "    [\"Lab1\", 8, 0.3],\n",
        "    [\"Lab2\", 9,0.3],\n",
        "    [\"Parcial1\", 9, 0.4]\n",
        "\n",
        "    [\"Lab1\", 8, 0.3],\n",
        "    [\"Lab2\", 9,0.3],\n",
        "    [\"Parcial2\", 9, 0.4]\n",
        "\n",
        "    [\"Lab1\", 8, 0.3],\n",
        "    [\"Lab2\", 9,0.3],\n",
        "    [\"Parcial3\", 9, 0.4]\n",
        "]\n",
        "prom = reduce(calcularPromedio, notas, 0)\n",
        "nf = prom / 3\n",
        "print(\"Nota final: \", nf)\n",
        "\n",
        "\n"
      ]
    },
    {
      "cell_type": "markdown",
      "metadata": {
        "id": "OJwD9fOnInQ5"
      },
      "source": [
        "CAlCULAR SUELDO NETO"
      ]
    },
    {
      "cell_type": "code",
      "execution_count": null,
      "metadata": {
        "id": "-y43T4DJIvB8"
      },
      "outputs": [],
      "source": [
        "def calcularSueldoNeto():\n",
        "    salario_nominal = float(input(\"Ingresa el salario nominal: \"))\n",
        "    tasa_isss = 0.03\n",
        "    tasa_afp = 0.0625\n",
        "    descuento_isss = salario_nominal * tasa_isss\n",
        "    descuento_afp = salario_nominal * tasa_afp\n",
        "    renta_neta = salario_nominal - (descuento_isss + descuento_afp)\n",
        "    descuento_isr = 0\n",
        "\n",
        "    if renta_neta <= 472.00:\n",
        "        descuento_isr = 0\n",
        "    elif renta_neta <= 895.24:\n",
        "        exceso = renta_neta - 472.00\n",
        "        descuento_isr = exceso * 0.10 + 17.67\n",
        "    elif renta_neta <= 2038.10:\n",
        "        exceso = renta_neta - 895.24\n",
        "        descuento_isr = exceso * 0.20 + 60.00\n",
        "    else:\n",
        "        exceso = renta_neta - 2038.10\n",
        "        descuento_isr = exceso * 0.30 + 288.57\n",
        "\n",
        "    total_deducciones = descuento_isss + descuento_afp + descuento_isr\n",
        "    sueldo_neto = salario_nominal - total_deducciones\n",
        "\n",
        "    print(\"Salario Nominal:\", salario_nominal)\n",
        "    print(\"Descuento ISSS:\", descuento_isss)\n",
        "    print(\"Descuento AFP:\", descuento_afp)\n",
        "    print(\"Descuento ISR:\", descuento_isr)\n",
        "    print(\"Total de deducciones:\", total_deducciones)\n",
        "    print(\"Sueldo Neto:\", sueldo_neto)\n",
        "\n",
        "calcularSueldoNeto()"
      ]
    },
    {
      "cell_type": "markdown",
      "metadata": {
        "id": "a4P55o9YI0mq"
      },
      "source": [
        "TARIFA DE AGUA"
      ]
    },
    {
      "cell_type": "code",
      "execution_count": null,
      "metadata": {
        "id": "Dy0SMOMsI2DF"
      },
      "outputs": [],
      "source": [
        "def calcularTarifaAgua():\n",
        "    metros_consumidos = float(input(\"¿Cuántos metros de agua consumiste? \"))\n",
        "    costo_total = 0\n",
        "\n",
        "    if metros_consumidos <= 18:\n",
        "        costo_total = 6.00\n",
        "    elif metros_consumidos <= 28:\n",
        "        exceso = metros_consumidos - 18\n",
        "        costo_total = 6.00 + (exceso * 0.45)\n",
        "    else:\n",
        "        costo_primeros_18 = 6.00\n",
        "        costo_siguientes_10 = 10 * 0.45\n",
        "        exceso = metros_consumidos - 28\n",
        "        costo_exceso = exceso * 0.65\n",
        "        costo_total = costo_primeros_18 + costo_siguientes_10 + costo_exceso\n",
        "\n",
        "    print(\"El costo total a pagar es: $\", costo_total)\n",
        "\n",
        "calcularTarifaAgua()"
      ]
    },
    {
      "cell_type": "markdown",
      "metadata": {
        "id": "RTDkJ8W8I6Bk"
      },
      "source": [
        "ACUMULADO DE MESES"
      ]
    },
    {
      "cell_type": "code",
      "execution_count": null,
      "metadata": {
        "id": "twgk75RCI9Bu"
      },
      "outputs": [],
      "source": [
        "def calcularMesesAcumulados():\n",
        "    meses = int(input(\"Ingresa el número de meses a acumular: \"))\n",
        "\n",
        "    acumulado = 0\n",
        "\n",
        "    for mes in range(1, meses + 1):\n",
        "        acumulado = acumulado + mes\n",
        "\n",
        "    print(\"El acumulado de\", meses, \"meses es:\", acumulado)\n",
        "\n",
        "calcularMesesAcumulados()"
      ]
    },
    {
      "cell_type": "markdown",
      "metadata": {
        "id": "1pycxapbJATQ"
      },
      "source": [
        "CONVERSORES"
      ]
    },
    {
      "cell_type": "code",
      "execution_count": null,
      "metadata": {
        "colab": {
          "background_save": true,
          "base_uri": "https://localhost:8080/"
        },
        "id": "0aiBTK2LJFhZ",
        "outputId": "f855b264-548c-4a31-c119-0a40eb7b4976"
      },
      "outputs": [
        {
          "name": "stdout",
          "output_type": "stream",
          "text": [
            "\n",
            "***Menu de opciones***\n",
            "1. Conversión de monedas\n",
            "2. Conversión de masas\n",
            "3. Conversión de volumen\n",
            "4. Conversión de longitud\n",
            "5. Conversión de almacenamiento\n",
            "6. Conversión de tiempo\n",
            "7. Conversión de área\n",
            "8. Salir\n",
            "\n",
            "*** Conversor de Longitud ***\n",
            "Unidades disponibles:\n",
            "1. Metro\n",
            "2. Kilómetro\n",
            "3. Centímetro\n",
            "4. Milímetro\n",
            "5. Yarda\n",
            "6. Pie\n",
            "7. Pulgada\n",
            "8. Milla\n",
            "20.0 Metro equivale a 65.6168 Pie\n",
            "\n",
            "***Menu de opciones***\n",
            "1. Conversión de monedas\n",
            "2. Conversión de masas\n",
            "3. Conversión de volumen\n",
            "4. Conversión de longitud\n",
            "5. Conversión de almacenamiento\n",
            "6. Conversión de tiempo\n",
            "7. Conversión de área\n",
            "8. Salir\n"
          ]
        }
      ],
      "source": [
        "#calcular unidades\n",
        "def conversor_universal(nombre_tipo, tasas):\n",
        "    print(f\"\\n*** Conversor de {nombre_tipo.capitalize()} ***\")\n",
        "\n",
        "    unidades_disponibles = list(tasas.keys())\n",
        "\n",
        "    print(\"Unidades disponibles:\")\n",
        "    for i, unidad in enumerate(unidades_disponibles, 1):\n",
        "        print(f\"{i}. {unidad}\")\n",
        "\n",
        "    try:\n",
        "        opcion_origen = int(input(\"Selecciona la unidad de origen: \")) - 1\n",
        "        opcion_destino = int(input(\"Selecciona la unidad de destino: \")) - 1\n",
        "\n",
        "        if 0 <= opcion_origen < len(unidades_disponibles) and 0 <= opcion_destino < len(unidades_disponibles):\n",
        "            unidad_origen = unidades_disponibles[opcion_origen]\n",
        "            unidad_destino = unidades_disponibles[opcion_destino]\n",
        "\n",
        "            valor = float(input(f\"Ingresa el valor en {unidad_origen}: \"))\n",
        "\n",
        "            valor_en_base = valor / tasas[unidad_origen]\n",
        "            resultado = valor_en_base * tasas[unidad_destino]\n",
        "\n",
        "            print(f\"{valor} {unidad_origen} equivale a {resultado} {unidad_destino}\")\n",
        "        else:\n",
        "            print(\"Opción no válida. Inténtalo de nuevo.\")\n",
        "    except (ValueError, IndexError):\n",
        "        print(\"Entrada no válida. Por favor, ingresa un número.\")\n",
        "\n",
        "def Cmonedas():\n",
        "    tasas = {\n",
        "        \"Dólar\": 1, \"Euro\": 0.92, \"Libra Esterlina\": 0.79, \"Yen Japonés\": 140.00,\n",
        "        \"Dólar Canadiense\": 1.35, \"Peso Mexicano\": 17.15, \"Peso Chileno\": 950.00,\n",
        "        \"Peso Argentino\": 870.00, \"Peso Colombiano\": 4000.00, \"Real Brasileño\": 5.20\n",
        "    }\n",
        "    conversor_universal(\"monedas\", tasas)\n",
        "\n",
        "def Cmasa():\n",
        "    tasas = {\n",
        "        \"Kilogramo\": 1, \"Gramo\": 1000, \"Miligramo\": 1000000, \"Libra\": 2.20462, \"Onza\": 35.274,\n",
        "        \"Tonelada\": 0.001, \"Stone\": 0.157473, \"Quilate\": 5000, \"Dram\": 564.383, \"Grain\": 15432.4\n",
        "    }\n",
        "    conversor_universal(\"masa\", tasas)\n",
        "\n",
        "def Cvolumen():\n",
        "    tasas = {\n",
        "        \"Litro\": 1, \"Mililitro\": 1000, \"Galón\": 0.264172, \"Cuarto\": 1.05669, \"Pinta\": 2.11338,\n",
        "        \"Taza\": 4.22675, \"Metro Cúbico\": 0.001, \"Pie Cúbico\": 0.0353147, \"Pulgada Cúbica\": 61.0237,\n",
        "        \"Onza Fluida\": 33.814\n",
        "    }\n",
        "    conversor_universal(\"volumen\", tasas)\n",
        "\n",
        "def Clongitud():\n",
        "    tasas = {\n",
        "        \"Metro\": 1, \"Kilómetro\": 0.001, \"Centímetro\": 100, \"Milímetro\": 1000,\n",
        "        \"Yarda\": 1.09361, \"Pie\": 3.28084, \"Pulgada\": 39.3701, \"Milla\": 0.000621371\n",
        "    }\n",
        "    conversor_universal(\"longitud\", tasas)\n",
        "\n",
        "def Calmacenamiento():\n",
        "    tasas = {\n",
        "        \"Byte\": 1, \"Kilobyte\": 0.0009765625, \"Megabyte\": 9.53674e-07, \"Gigabyte\": 9.31323e-10,\n",
        "        \"Terabyte\": 9.09495e-13, \"Petabyte\": 8.88178e-16, \"Exabyte\": 8.67362e-19,\n",
        "        \"Zettabyte\": 8.47033e-22, \"Yottabyte\": 8.27181e-25, \"Brontobyte\": 8.07794e-28\n",
        "    }\n",
        "    conversor_universal(\"almacenamiento\", tasas)\n",
        "\n",
        "def Ctiempo():\n",
        "    tasas = {\n",
        "        \"Segundo\": 1, \"Minuto\": 0.0166667, \"Hora\": 0.000277778, \"Día\": 1.15741e-05,\n",
        "        \"Semana\": 1.65344e-06, \"Mes\": 3.80517e-07, \"Año\": 3.17098e-08,\n",
        "        \"Década\": 3.17098e-09, \"Siglo\": 3.17098e-10, \"Milenio\": 3.17098e-11\n",
        "    }\n",
        "    conversor_universal(\"tiempo\", tasas)\n",
        "\n",
        "def Carea():\n",
        "    tasas = {\n",
        "        \"Metro Cuadrado\": 1, \"Kilómetro Cuadrado\": 0.000001, \"Hectárea\": 0.0001, \"Pie Cuadrado\": 10.7639,\n",
        "        \"Centímetro Cuadrado\": 10000, \"Milla Cuadrada\": 3.86102e-07, \"Acre\": 0.000247105,\n",
        "        \"Yarda Cuadrada\": 1.19599, \"Manzana\": 0.000142857, \"Tarea\": 0.0022857\n",
        "    }\n",
        "    conversor_universal(\"area\", tasas)\n",
        "\n",
        "def menu_principal():\n",
        "    while True:\n",
        "        print(\"\\n***Menu de opciones***\")\n",
        "        print(\"1. Conversión de monedas\")\n",
        "        print(\"2. Conversión de masas\")\n",
        "        print(\"3. Conversión de volumen\")\n",
        "        print(\"4. Conversión de longitud\")\n",
        "        print(\"5. Conversión de almacenamiento\")\n",
        "        print(\"6. Conversión de tiempo\")\n",
        "        print(\"7. Conversión de área\")\n",
        "        print(\"8. Salir\")\n",
        "\n",
        "        opcion = input(\"opcion: \")\n",
        "\n",
        "        if opcion == \"1\":\n",
        "            Cmonedas()\n",
        "        elif opcion == \"2\":\n",
        "            Cmasa()\n",
        "        elif opcion == \"3\":\n",
        "            Cvolumen()\n",
        "        elif opcion == \"4\":\n",
        "            Clongitud()\n",
        "        elif opcion == \"5\":\n",
        "            Calmacenamiento()\n",
        "        elif opcion == \"6\":\n",
        "            Ctiempo()\n",
        "        elif opcion == \"7\":\n",
        "            Carea()\n",
        "        elif opcion == \"8\":\n",
        "            print(\"Saliendo del programa...\")\n",
        "            break\n",
        "        else:\n",
        "            print(\"Opción no válida. Inténtalo de nuevo.\")\n",
        "\n",
        "menu_principal()"
      ]
    },
    {
      "cell_type": "markdown",
      "metadata": {
        "id": "ayO0FV6YJJU8"
      },
      "source": [
        "CONVERSOR PROPIO"
      ]
    },
    {
      "cell_type": "code",
      "execution_count": null,
      "metadata": {
        "colab": {
          "base_uri": "https://localhost:8080/"
        },
        "id": "_LrmprK4JLVj",
        "outputId": "84bd17a2-fbe8-4f0c-a923-7f9927a5459d"
      },
      "outputs": [
        {
          "name": "stdout",
          "output_type": "stream",
          "text": [
            "Opciones de conversión:\n",
            "1. Convertir de unidades a cajas\n",
            "2. Convertir de cajas a unidades\n",
            "Selecciona una opción (1 o 2): 1\n",
            "Ingresa la cantidad de unidades: 40\n",
            "40.0 unidades equivalen a 1.6 cajas.\n"
          ]
        }
      ],
      "source": [
        "#conversor propio, de unidades a cajas y viceversa\n",
        "def conversor_cajas():\n",
        "\n",
        "    unidades_por_caja = 25\n",
        "\n",
        "    print(\"Opciones de conversión:\")\n",
        "    print(\"1. Convertir de unidades a cajas\")\n",
        "    print(\"2. Convertir de cajas a unidades\")\n",
        "\n",
        "    opcion = input(\"Selecciona una opción (1 o 2): \")\n",
        "\n",
        "    if opcion == \"1\":\n",
        "\n",
        "        valor_unidades = float(input(\"Ingresa la cantidad de unidades: \"))\n",
        "        resultado = valor_unidades / unidades_por_caja\n",
        "        print(f\"{valor_unidades} unidades equivalen a {resultado} cajas.\")\n",
        "\n",
        "    elif opcion == \"2\":\n",
        "\n",
        "        valor_cajas = float(input(\"Ingresa la cantidad de cajas: \"))\n",
        "        resultado = valor_cajas * unidades_por_caja\n",
        "        print(f\"{valor_cajas} cajas equivalen a {resultado} unidades.\")\n",
        "\n",
        "    else:\n",
        "        print(\"Opción no válida. Por favor, selecciona 1 o 2.\")\n",
        "\n",
        "\n",
        "conversor_cajas()"
      ]
    },
    {
      "cell_type": "code",
      "execution_count": null,
      "metadata": {
        "colab": {
          "base_uri": "https://localhost:8080/"
        },
        "id": "_7dtjce3gTiY",
        "outputId": "409097d1-313e-4ce9-f793-56cf3d3567ae"
      },
      "outputs": [
        {
          "name": "stdout",
          "output_type": "stream",
          "text": [
            "[5, 8, 9, 1, 3, 4, 7] Lista original\n",
            "[1, 3, 4, 5, 7, 8, 9] POrdenados de menor a mayor\n",
            "[9, 8, 7, 5, 4, 3, 1] Ordenados de mayor a menor\n"
          ]
        }
      ],
      "source": [
        "#sort\n",
        "valores = [5,8,9,1,3,4,7]\n",
        "\n",
        "print(valores, \"Lista original\")\n",
        "\n",
        "valores.sort()\n",
        "print(valores, \"POrdenados de menor a mayor\")\n",
        "\n",
        "valores.reverse()\n",
        "print(valores, \"Ordenados de mayor a menor\")\n",
        "\n",
        "#valores.sort(reverse=True)\n",
        "#print(valores, \"Ordenados de mayor a menor\")"
      ]
    },
    {
      "cell_type": "markdown",
      "metadata": {
        "id": "5dkPdKLGgXGh"
      },
      "source": [
        "DICCIONARIOS - JSON\n",
        "\n"
      ]
    },
    {
      "cell_type": "code",
      "execution_count": null,
      "metadata": {
        "id": "dc4gCqEMgWhv"
      },
      "outputs": [],
      "source": [
        "persona = {\n",
        "  \"codigo\": \"USIS018804\",\n",
        "  \"nombre\": \"Yomi Carrazco\",\n",
        "  \"materias\": [\n",
        "    {\n",
        "      \"codigo\": 611,\n",
        "      \"nombre\": \"Programacion I\",\n",
        "      \"notas\":{\n",
        "        \"c1\": {\"lab1\":8, \"lab2\":9.9, \"parcial\":10},\n",
        "        \"c2\": {\"lab1\":7.78, \"lab2\":6.5, \"parcial\":8},\n",
        "        \"c3\": {\"lab1\":10, \"lab2\":9, \"parcial\":9}\n",
        "      }\n",
        "    },\n",
        "    {\n",
        "      \"codigo\": 612,\n",
        "      \"nombre\": \"Programacion II\",\n",
        "      \"notas\":{\n",
        "        \"c1\": {\"lab1\":5, \"lab2\": 7, \"parcial\":9},\n",
        "        \"c2\": {\"lab1\":9, \"lab2\": 6, \"parcial\": 10},\n",
        "        \"c3\": {\"lab1\":10, \"lab2\": 10, \"parcial\": 9}\n",
        "      }\n",
        "    }\n",
        "  ]\n",
        "}\n",
        "print(persona[\"nombre\"], \"->\", persona[\"materias\"][0][\"nombre\"], \"-> CI: \",\n",
        "      persona[\"materias\"][0][\"notas\"][\"c1\"],\n",
        "      persona[\"materias\"][0][\"notas\"][\"c1\"][\"lab1\"]\n",
        "      )"
      ]
    },
    {
      "cell_type": "markdown",
      "metadata": {
        "id": "tshPP6bKg-Fu"
      },
      "source": [
        "ESTRUCTURAS DE CONTROL\n",
        "\n"
      ]
    },
    {
      "cell_type": "code",
      "execution_count": null,
      "metadata": {
        "id": "_m2Vs7Slg_dG"
      },
      "outputs": [],
      "source": [
        "#if\n",
        "#hacer un ejercicio en python que permita clasificar las edades segun su rango\n",
        "edad = int(input(\"Edad: \"))\n",
        "if(edad<0):\n",
        "  print(\"Error al ingresar la edad, solo valores positivos.\")\n",
        "elif(edad<=2):\n",
        "  print(\"Eres un bebe...\")\n",
        "elif(edad<=11):\n",
        "  print(\"Eres un niño...\")\n",
        "elif(edad<18):\n",
        "  print(\"Eres un adolescente...\")\n",
        "elif(edad<65):\n",
        "  print(\"Eres un adulto responsable...\")\n",
        "elif(edad<85):\n",
        "  print(\"Eres un adulto mayor...\")\n",
        "else:\n",
        "  print(\"Larga vida...\")"
      ]
    },
    {
      "cell_type": "code",
      "execution_count": null,
      "metadata": {
        "id": "YzFYCDNkngI0"
      },
      "outputs": [],
      "source": [
        "#Determinar si un numero introducido por el usuario es primo\n",
        "num = int(input(\"Num: \"))\n",
        "\n",
        "acum = 0\n",
        "i=1\n",
        "while i<=num and acum<=2:\n",
        "  if( num%i==0 ):\n",
        "    acum+=1\n",
        "  i+=1\n",
        "if(acum<=2):\n",
        "  print(\"El numero \", num, \" ES primo\")\n",
        "else:\n",
        "  print(\"El numero \", num, \" NO es primo\")"
      ]
    },
    {
      "cell_type": "markdown",
      "metadata": {
        "id": "DESEIP2hnvMN"
      },
      "source": [
        "PROGRAMACION ORIENTADA A OBJETOS\n",
        "\n"
      ]
    },
    {
      "cell_type": "markdown",
      "metadata": {
        "id": "O0X3EdFfnz-1"
      },
      "source": [
        "\n",
        "\n",
        "*   CLASES\n",
        "\n",
        "\n"
      ]
    },
    {
      "cell_type": "code",
      "execution_count": null,
      "metadata": {
        "id": "SQWPuwgFnsIx"
      },
      "outputs": [],
      "source": [
        "class calculadora:\n",
        "  def sumar(num1, num2):\n",
        "    return num1+num2"
      ]
    },
    {
      "cell_type": "markdown",
      "metadata": {
        "id": "NnyQQAfjoAl0"
      },
      "source": [
        "\n",
        "\n",
        "*   OBJETO\n",
        "\n"
      ]
    },
    {
      "cell_type": "code",
      "execution_count": null,
      "metadata": {
        "id": "SgD9Lma0oEke"
      },
      "outputs": [],
      "source": [
        "objCalculadora = calculadora() #creamos el objeto apartir de la clase\n",
        "num1 = float(input(\"Num1: \"))\n",
        "num2 = float(input(\"Num2: \"))\n",
        "print(num1, \"+\", num2, \"=\", calculadora.sumar(num1, num2))"
      ]
    },
    {
      "cell_type": "code",
      "execution_count": null,
      "metadata": {
        "id": "RQBj3QYooI9S"
      },
      "outputs": [],
      "source": [
        "#Hecer un programa que lea una serie de numero introeducidos por el usuario y determine la media artimetica.\n",
        "from math import sqrt\n",
        "class estadistica:\n",
        "  def media(self, serie):\n",
        "    suma = 0\n",
        "    for num in serie:\n",
        "      suma += int(num)\n",
        "    return suma/len(serie)\n",
        "\n",
        "  def tipica(self, serie):\n",
        "    media = self.media(serie)\n",
        "    suma = 0\n",
        "    for num in serie:\n",
        "      suma += (int(num)-media)**2\n",
        "    return sqrt( suma/len(serie) )"
      ]
    },
    {
      "cell_type": "code",
      "execution_count": null,
      "metadata": {
        "id": "SArhk-jeoMv7"
      },
      "outputs": [],
      "source": [
        "serie = input(\"Serie ejem: 1,5,2,3: \").split(\",\")\n",
        "objEstadistica = estadistica()\n",
        "print(\"La media es: \", objEstadistica.media(serie), \"la desvicacion tipica es: \", round(objEstadistica.tipica(serie), 2) )\n"
      ]
    },
    {
      "cell_type": "markdown",
      "source": [
        "TAREA\n",
        "\n",
        "Encontrar la varianza en una serie de numeros introducidos por el usuario.\n",
        "\n",
        "Encontrar la frecuencia en una serie de numeros introducidos por el usuario.\n",
        "\n",
        "Escriba un programa que determine si una palabra es palinbdrome. Ejm. ana, oso, oro, reconocer, bob, somos, ala, salas, etc.\n"
      ],
      "metadata": {
        "id": "Y6vpdLQThSe_"
      }
    },
    {
      "cell_type": "markdown",
      "source": [
        "Calcula la varianza de un conjunto de número"
      ],
      "metadata": {
        "id": "J65HVQqlQbwZ"
      }
    },
    {
      "cell_type": "code",
      "source": [
        "import numpy as np\n",
        "\n",
        "numeros_str = input(\"Introduce los números separados por comas: \")\n",
        "try:\n",
        "    numeros = [float(num) for num in numeros_str.split(',')]\n",
        "    varianza = np.var(numeros)\n",
        "    print(f\"La varianza de los números es: {varianza}\")\n",
        "\n",
        "except ValueError:\n",
        "    print(\"Entrada inválida. Por favor, introduce solo números separados por comas.\")"
      ],
      "metadata": {
        "colab": {
          "base_uri": "https://localhost:8080/"
        },
        "id": "kWAYk5DHQbFO",
        "outputId": "f4ab1b07-d09d-4f9e-8747-7ff08864d5b8"
      },
      "execution_count": null,
      "outputs": [
        {
          "output_type": "stream",
          "name": "stdout",
          "text": [
            "Introduce los números separados por comas: 3,4,5,6\n",
            "La varianza de los números es: 1.25\n"
          ]
        }
      ]
    },
    {
      "cell_type": "markdown",
      "source": [
        "Frecuencia de una Serie de Números"
      ],
      "metadata": {
        "id": "JWUw0LeDQq_j"
      }
    },
    {
      "cell_type": "code",
      "source": [
        "from collections import Counter\n",
        "\n",
        "numeros_str = input(\"Introduce los números separados por comas: \")\n",
        "try:\n",
        "    numeros = [float(num) for num in numeros_str.split(',')]\n",
        "    frecuencia = Counter(numeros)\n",
        "    print(\"La frecuencia de cada número es:\")\n",
        "    for numero, veces in sorted(frecuencia.items()):\n",
        "        print(f\"El número {numero} aparece {veces} veces.\")\n",
        "\n",
        "except ValueError:\n",
        "    print(\"Entrada inválida. Por favor, introduce solo números separados por comas.\")"
      ],
      "metadata": {
        "colab": {
          "base_uri": "https://localhost:8080/"
        },
        "id": "xRI9JG44QyIG",
        "outputId": "0a48a9e6-2d8e-4829-effa-70b5c8527760"
      },
      "execution_count": null,
      "outputs": [
        {
          "output_type": "stream",
          "name": "stdout",
          "text": [
            "Introduce los números separados por comas: 3,4,5,6,7\n",
            "La frecuencia de cada número es:\n",
            "El número 3.0 aparece 1 veces.\n",
            "El número 4.0 aparece 1 veces.\n",
            "El número 5.0 aparece 1 veces.\n",
            "El número 6.0 aparece 1 veces.\n",
            "El número 7.0 aparece 1 veces.\n"
          ]
        }
      ]
    },
    {
      "cell_type": "markdown",
      "source": [
        " Detector de Palíndromos"
      ],
      "metadata": {
        "id": "JGlsiIBkQ5hp"
      }
    },
    {
      "cell_type": "code",
      "source": [
        "def es_palindromo(palabra):\n",
        "    palabra_limpia = palabra.replace(\" \", \"\").lower()\n",
        "    return palabra_limpia == palabra_limpia[::-1]\n",
        "entrada_usuario = input(\"Introduce una palabra o frase para verificar si es un palíndromo: \")\n",
        "if es_palindromo(entrada_usuario):\n",
        "    print(f'\"{entrada_usuario}\" es un palíndromo.')\n",
        "else:\n",
        "    print(f'\"{entrada_usuario}\" no es un palíndromo.')"
      ],
      "metadata": {
        "colab": {
          "base_uri": "https://localhost:8080/"
        },
        "id": "7G7YxopoQ_Mv",
        "outputId": "da42603f-a7e0-4e93-919c-c0af78995f48"
      },
      "execution_count": null,
      "outputs": [
        {
          "output_type": "stream",
          "name": "stdout",
          "text": [
            "Introduce una palabra o frase para verificar si es un palíndromo: buenos días\n",
            "\"buenos días\" no es un palíndromo.\n"
          ]
        }
      ]
    },
    {
      "cell_type": "code",
      "source": [
        "#Crear un programa que calcule el mayor de N numeros\n",
        "class calcular:\n",
        "  def menor(self, serie):\n",
        "    nMenor = int(serie[0])\n",
        "    for i in serie:\n",
        "      num = int(i)\n",
        "      if (num < nMenor):\n",
        "        menor = num\n",
        "    return nMenor\n",
        "\n",
        "  def mayor(self, serie):\n",
        "    nMayor = 0\n",
        "    for i in serie:\n",
        "      num = int(i)\n",
        "      if (num > nMayor):\n",
        "        nMayor = num\n",
        "    return nMayor"
      ],
      "metadata": {
        "id": "0VgpJMchg48V"
      },
      "execution_count": null,
      "outputs": []
    },
    {
      "cell_type": "code",
      "source": [
        "calcular = calcular()\n",
        "serie = input(\"Serie ejem: 1,5,2,3: \").split(\",\")\n",
        "print(serie)\n",
        "print(\"El mayor es: \", calcular.mayor(serie))\n",
        "print(\"El menor es: \", calcular.menor(serie))"
      ],
      "metadata": {
        "id": "yl9D7M89k6Zi",
        "colab": {
          "base_uri": "https://localhost:8080/"
        },
        "outputId": "f9b17823-9245-441c-8fd2-9da66d3f8b55"
      },
      "execution_count": null,
      "outputs": [
        {
          "output_type": "stream",
          "name": "stdout",
          "text": [
            "Serie ejem: 1,5,2,3: 2,3,4,5,6,7,9\n",
            "['2', '3', '4', '5', '6', '7', '9']\n",
            "El mayor es:  9\n",
            "El menor es:  2\n"
          ]
        }
      ]
    },
    {
      "cell_type": "code",
      "source": [
        "#Encontar la persona mayor de edad en una lista de datos\n",
        "persona = [\n",
        "    {\"nombre\":\"Yomi\", \"edad\": 20},\n",
        "    {\"nombre\":\"Javier\", \"edad\": 22},\n",
        "    {\"nombre\":\"Walter\", \"edad\": 21},\n",
        "    {\"nombre\":\"Steve\", \"edad\": 25}\n",
        "]\n",
        "def mayor_edad(persona):\n",
        "    mayorEdad = int(serie[0])\n",
        "    for i in serie:\n",
        "      num = int(i)\n",
        "      if (num < nMenor):\n",
        "        menor = num\n",
        "    return mayor_Edad\n",
        "\n"
      ],
      "metadata": {
        "id": "fncx5KXatFUU"
      },
      "execution_count": null,
      "outputs": []
    },
    {
      "cell_type": "code",
      "source": [],
      "metadata": {
        "colab": {
          "base_uri": "https://localhost:8080/"
        },
        "id": "iX4HmKG_t6f6",
        "outputId": "4bbcade4-d730-44a7-9673-fc86c242f9c9"
      },
      "execution_count": null,
      "outputs": [
        {
          "output_type": "stream",
          "name": "stdout",
          "text": [
            "La persona con la mayor edad es: Steve con 25 años.\n"
          ]
        }
      ]
    },
    {
      "cell_type": "markdown",
      "source": [
        "Definición de la tabla de impuestos como una lista de diccionarios"
      ],
      "metadata": {
        "id": "lW5lyvqhlYK6"
      }
    },
    {
      "cell_type": "code",
      "source": [
        "tabla_impuestos = [\n",
        "    {'desde': 0.01, 'hasta': 500.00, 'precio': 1.5, 'adicional': 0},\n",
        "    {'desde': 500.01, 'hasta': 1000.00, 'precio': 1.5, 'adicional': 3},\n",
        "    {'desde': 1000.01, 'hasta': 2000.00, 'precio': 3, 'adicional': 3},\n",
        "    {'desde': 2000.01, 'hasta': 3000.00, 'precio': 6, 'adicional': 3},\n",
        "    {'desde': 3000.01, 'hasta': 6000.00, 'precio': 9, 'adicional': 2},\n",
        "    {'desde': 8000.01, 'hasta': 18000.00, 'precio': 15, 'adicional': 2},\n",
        "    {'desde': 18000.01, 'hasta': 30000.00, 'precio': 39, 'adicional': 2},\n",
        "    {'desde': 30000.01, 'hasta': 60000.00, 'precio': 63, 'adicional': 1},\n",
        "    {'desde': 60000.01, 'hasta': 100000.00, 'precio': 93, 'adicional': 0.8},\n",
        "    {'desde': 100000.01, 'hasta': 200000.00, 'precio': 125, 'adicional': 0.7},\n",
        "    {'desde': 200000.01, 'hasta': 300000.00, 'precio': 195, 'adicional': 0.6},\n",
        "    {'desde': 300000.01, 'hasta': 400000.00, 'precio': 255, 'adicional': 0.45},\n",
        "    {'desde': 400000.01, 'hasta': 500000.00, 'precio': 300, 'adicional': 0.4},\n",
        "    {'desde': 500000.01, 'hasta': 1000000.00, 'precio': 340, 'adicional': 0.30},\n",
        "    {'desde': 1000000.01, 'hasta': 99999999, 'precio': 490, 'adicional': 0.18}\n",
        "]\n",
        "\n",
        "def calcular_impuesto(monto):\n",
        "    \"\"\"\n",
        "    Calcula el impuesto a pagar basándose en el monto de la actividad económica.\n",
        "    \"\"\"\n",
        "    for fila in tabla_impuestos:\n",
        "        if fila['desde'] <= monto <= fila['hasta']:\n",
        "            if fila['adicional'] > 0:\n",
        "                impuesto = ((monto - fila['desde']) / 1000) * fila['adicional'] + fila['precio']\n",
        "            else:\n",
        "                impuesto = fila['precio']\n",
        "            return impuesto\n",
        "    return 0  # Retorna 0 si el monto no se encuentra en la tabla\n",
        "\n",
        "def main():\n",
        "    try:\n",
        "        monto_actividad = float(input(\"Ingrese el monto de la actividad económica: $\"))\n",
        "        impuesto_a_pagar = calcular_impuesto(monto_actividad)\n",
        "\n",
        "        if impuesto_a_pagar > 0:\n",
        "            print(f\"El valor a pagar es: ${impuesto_a_pagar:.2f}\")\n",
        "        else:\n",
        "            print(\"El monto ingresado no corresponde a un rango válido en la tabla de impuestos.\")\n",
        "    except ValueError:\n",
        "        print(\"Entrada inválida. Por favor, ingrese un número.\")\n",
        "\n",
        "if __name__ == \"__main__\":\n",
        "    main()"
      ],
      "metadata": {
        "colab": {
          "base_uri": "https://localhost:8080/"
        },
        "id": "UX6-ZvB-inDE",
        "outputId": "e2e12cfe-de5d-45a1-b6a3-5f469633d465"
      },
      "execution_count": 3,
      "outputs": [
        {
          "output_type": "stream",
          "name": "stdout",
          "text": [
            "Ingrese el monto de la actividad económica: $700\n",
            "El valor a pagar es: $2.10\n"
          ]
        }
      ]
    },
    {
      "cell_type": "markdown",
      "source": [
        "Conversor de Area"
      ],
      "metadata": {
        "id": "HzMeg4XwmInF"
      }
    },
    {
      "cell_type": "code",
      "source": [
        "def conversor_area():\n",
        "    \"\"\"\n",
        "    Programa para convertir unidades de área (superficie).\n",
        "    \"\"\"\n",
        "    unidades_area = {\n",
        "        'pie cuadrado': 1,\n",
        "        'vara cuadrada': 1.14488,\n",
        "        'yarda cuadrada': 9,\n",
        "        'metro cuadrado': 10.7639,\n",
        "        'tarea': 4305.56,\n",
        "        'manzana': 7000.96,\n",
        "        'hectarea': 107639.1\n",
        "    }\n",
        "\n",
        "    print(\"Unidades de área disponibles:\")\n",
        "    for i, unidad in enumerate(unidades_area.keys(), 1):\n",
        "        print(f\"{i}. {unidad.title()}\")\n",
        "\n",
        "    try:\n",
        "        print(\"\\nSeleccione la unidad de origen:\")\n",
        "        opcion_origen = int(input(\"Ingrese el número de la unidad de origen: \"))\n",
        "\n",
        "        print(\"\\nSeleccione la unidad de destino:\")\n",
        "        opcion_destino = int(input(\"Ingrese el número de la unidad de destino: \"))\n",
        "\n",
        "        unidades_lista = list(unidades_area.keys())\n",
        "        unidad_origen = unidades_lista[opcion_origen - 1]\n",
        "        unidad_destino = unidades_lista[opcion_destino - 1]\n",
        "\n",
        "        valor_origen = float(input(f\"\\nIngrese el valor en {unidad_origen}: \"))\n",
        "\n",
        "        valor_base = valor_origen * unidades_area[unidad_origen]\n",
        "\n",
        "        valor_destino = valor_base / unidades_area[unidad_destino]\n",
        "\n",
        "        print(f\"{valor_origen} {unidad_origen} equivale a {valor_destino:.4f} {unidad_destino}.\")\n",
        "\n",
        "    except (ValueError, IndexError):\n",
        "        print(\"Entrada inválida. Por favor, ingrese un número de opción válido.\")\n",
        "\n",
        "if __name__ == \"__main__\":\n",
        "    conversor_area()"
      ],
      "metadata": {
        "colab": {
          "base_uri": "https://localhost:8080/"
        },
        "id": "Bi4vQI6vmGsd",
        "outputId": "e901f083-521b-495d-a528-f95e345a1b34"
      },
      "execution_count": 24,
      "outputs": [
        {
          "output_type": "stream",
          "name": "stdout",
          "text": [
            "Unidades de área disponibles:\n",
            "1. Pie Cuadrado\n",
            "2. Vara Cuadrada\n",
            "3. Yarda Cuadrada\n",
            "4. Metro Cuadrado\n",
            "5. Tarea\n",
            "6. Manzana\n",
            "7. Hectarea\n",
            "\n",
            "Seleccione la unidad de origen:\n",
            "Ingrese el número de la unidad de origen: 6\n",
            "\n",
            "Seleccione la unidad de destino:\n",
            "Ingrese el número de la unidad de destino: 5\n",
            "\n",
            "Ingrese el valor en manzana: 1\n",
            "1.0 manzana equivale a 1.6260 tarea.\n"
          ]
        }
      ]
    },
    {
      "cell_type": "markdown",
      "source": [
        "Cajero automático"
      ],
      "metadata": {
        "id": "JH1P6bcUmNNk"
      }
    },
    {
      "cell_type": "code",
      "source": [
        "def cajero_automatico():\n",
        "    \"\"\"\n",
        "    Simula un cajero automático para dispensar billetes y monedas.\n",
        "    \"\"\"\n",
        "    try:\n",
        "        cantidad_a_retirar = float(input(\"Ingrese la cantidad a retirar: $\"))\n",
        "\n",
        "        if cantidad_a_retirar <= 0:\n",
        "            print(\"Por favor, ingrese una cantidad positiva.\")\n",
        "            return\n",
        "\n",
        "        denominaciones = {\n",
        "            20.00: \"billetes de a 20\",\n",
        "            10.00: \"billetes de a 10\",\n",
        "            5.00: \"billetes de a 5\",\n",
        "            1.00: \"billetes de a 1\",\n",
        "            0.25: \"monedas de 0.25 ctvs.\",\n",
        "            0.10: \"monedas de 0.10 ctvs.\",\n",
        "            0.05: \"monedas de 0.05 ctvs.\",\n",
        "            0.01: \"monedas de 0.01 ctvs.\"\n",
        "        }\n",
        "\n",
        "        cantidad_restante = cantidad_a_retirar\n",
        "\n",
        "        print(f\"\\nCantidad a retirar: ${cantidad_a_retirar:.2f}\")\n",
        "\n",
        "        for valor, nombre in denominaciones.items():\n",
        "            if cantidad_restante >= valor:\n",
        "                cantidad_restante = round(cantidad_restante, 2)\n",
        "                numero_de_unidades = int(cantidad_restante // valor)\n",
        "                cantidad_restante %= valor\n",
        "\n",
        "                print(f\"{numero_de_unidades} {nombre}\")\n",
        "\n",
        "    except ValueError:\n",
        "        print(\"Entrada inválida. Por favor, ingrese un número.\")\n",
        "\n",
        "if __name__ == \"__main__\":\n",
        "    cajero_automatico()"
      ],
      "metadata": {
        "colab": {
          "base_uri": "https://localhost:8080/"
        },
        "id": "dJS-1o-ImPCT",
        "outputId": "ba6477d7-1d0a-47f1-fe87-803f47fe67f7"
      },
      "execution_count": 25,
      "outputs": [
        {
          "output_type": "stream",
          "name": "stdout",
          "text": [
            "Ingrese la cantidad a retirar: $99.89\n",
            "\n",
            "Cantidad a retirar: $99.89\n",
            "4 billetes de a 20\n",
            "1 billetes de a 10\n",
            "1 billetes de a 5\n",
            "4 billetes de a 1\n",
            "3 monedas de 0.25 ctvs.\n",
            "1 monedas de 0.10 ctvs.\n",
            "4 monedas de 0.01 ctvs.\n"
          ]
        }
      ]
    }
  ],
  "metadata": {
    "colab": {
      "provenance": [],
      "authorship_tag": "ABX9TyMv7fq6wKvSYWEgS8tZpYyu",
      "include_colab_link": true
    },
    "kernelspec": {
      "display_name": "Python 3",
      "name": "python3"
    },
    "language_info": {
      "name": "python"
    }
  },
  "nbformat": 4,
  "nbformat_minor": 0
}